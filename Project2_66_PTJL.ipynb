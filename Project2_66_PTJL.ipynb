{
  "cells": [
    {
      "cell_type": "markdown",
      "metadata": {
        "id": "view-in-github",
        "colab_type": "text"
      },
      "source": [
        "<a href=\"https://colab.research.google.com/github/Pimchanok6430205105/Project_Datawarehouse/blob/main/Project2_66_PTJL.ipynb\" target=\"_parent\"><img src=\"https://colab.research.google.com/assets/colab-badge.svg\" alt=\"Open In Colab\"/></a>"
      ]
    },
    {
      "cell_type": "markdown",
      "metadata": {
        "id": "a9vdRAtFv0cJ"
      },
      "source": [
        "# Project 2 : Analyzing data from MovieLens\n",
        "\n",
        "**Due Date: Sunday, October 11**\n",
        "\n",
        "**NOTE: There are always last minute issues submitting the case studies. DO NOT WAIT UNTIL THE LAST MINUTE!**\n"
      ]
    },
    {
      "cell_type": "markdown",
      "metadata": {
        "id": "oOi9GuF0v0cK"
      },
      "source": [
        "## The MovieLens data sets\n",
        "\n",
        "<img src=\"https://www.oreilly.com/api/v2/epubs/9781788993753/files/assets/dc0f89d7-6e9c-4790-a6c0-06725f2dbe8a.png\">\n",
        "\n",
        "https://movielens.org"
      ]
    },
    {
      "cell_type": "code",
      "execution_count": null,
      "metadata": {
        "id": "hGq1WReZv0cL"
      },
      "outputs": [],
      "source": [
        "from IPython.lib.display import YouTubeVideo"
      ]
    },
    {
      "cell_type": "code",
      "execution_count": null,
      "metadata": {
        "outputId": "3eca6da9-f059-4373-ed6d-87a3914b866e",
        "colab": {
          "base_uri": "https://localhost:8080/",
          "height": 320
        },
        "id": "69AFa1lxv0cL"
      },
      "outputs": [
        {
          "output_type": "execute_result",
          "data": {
            "text/plain": [
              "<IPython.lib.display.YouTubeVideo at 0x7c61d7535990>"
            ],
            "text/html": [
              "\n",
              "        <iframe\n",
              "            width=\"400\"\n",
              "            height=\"300\"\n",
              "            src=\"https://www.youtube.com/embed/4tW9HY0Q460\"\n",
              "            frameborder=\"0\"\n",
              "            allowfullscreen\n",
              "            \n",
              "        ></iframe>\n",
              "        "
            ],
            "image/jpeg": "[encoded data removed]"
          },
          "metadata": {},
          "execution_count": 7
        }
      ],
      "source": [
        "YouTubeVideo('4tW9HY0Q460')"
      ]
    },
    {
      "cell_type": "markdown",
      "metadata": {
        "id": "mKimLfTlv0cM"
      },
      "source": [
        "**TEAM Members:** Please EDIT this cell and add the names of all the team members in your team\n",
        "\n",
        "1. นางสาวทิพย์วัลย์ สุโพธิ์     643020062-6 thippawan.s@kkumail.com\n",
        "2. นางสาวพิมชนก วงศ์สายเชื้อ 643020510-5 pimchanok.w@kkumail.com\n",
        "3. นางสาววิภาดา ห่วงสูงเนิน  643020520-2    wipada.h@kkumail.com\n",
        "4. นางสาววริศรา ปันลา      643020519-7 waritsara.pa@kkumail.com"
      ]
    },
    {
      "cell_type": "markdown",
      "metadata": {
        "id": "OaKeuERav0cM"
      },
      "source": [
        "**Objectives**\n",
        "* In this case study we will look at the MovieLens 1M Data Set.\n",
        "    * It contains data about users and how the rate movies.\n",
        "    * http://grouplens.org/datasets/movielens/\n",
        "* The idea is to *analyze* the data set, make *conjectures*, support or refute those conjectures with *data*, and *tell a story* about the data!\n",
        "    \n",
        "**Useful Readings:**\n",
        "* Chapter 14.2 (only the section on the MovieLens 1M Data Set), Chapter 5, 6.2, 7.2, 8, and 9 of the book [Python for Data Analysis](http://shop.oreilly.com/product/0636920023784.do)  (View pivately on Google Classroom).\n",
        "* If you want your code to be really compact then you might want to also look into the pivot_table method of Panda's DataFrame, though there are many other ways to complete the case study!\n",
        "\n",
        "**Required Python libraries:**\n",
        "* Pandas (pandas.pydata.org)\n",
        "* Matplotlib (matplotlib.org)\n",
        "\n",
        "**NOTE**: Please don't forget to save the notebook frequently when working in IPython Notebook, otherwise the changes you made can be lost."
      ]
    },
    {
      "cell_type": "markdown",
      "source": [
        "-import dataset\n",
        "\n",
        "-ใส่ชื่อ header\n",
        "\n",
        "-merge ได้ df -> df.to_hdf(\"file path/df.h5\",key = 'dfKey0') #ถูกเซฟลงใน Directory ใน classroom\n",
        "\n",
        "-movieDF = pd.read_kdf(\"file path/df.h5\",key = 'dfKey0')\n",
        "\n",
        "-ให้สร้างสมมติฐานว่า ผลมันเป็นจริงตามที่คิดไว้ไหม"
      ],
      "metadata": {
        "id": "Bma-9WM7v0cM"
      }
    },
    {
      "cell_type": "markdown",
      "metadata": {
        "id": "3846qNaUv0cM"
      },
      "source": [
        "# Problem 1:\n",
        "\n",
        "## Importing the MovieLens data set and merging it into a single Pandas DataFrame"
      ]
    },
    {
      "cell_type": "markdown",
      "metadata": {
        "id": "c57HWRk0v0cM"
      },
      "source": [
        "* Download the 1 million ratings data set from https://grouplens.org/datasets/movielens/1m/ (though if you are feeling adventerous you can download the 10 million ratings file instead)\n",
        "* Merge all of the data into a single Pandas DataFrame. See\n",
        "    * https://pandas.pydata.org/docs/reference/api/pandas.DataFrame.merge.html\n",
        "* Store the data into an HDF5 file. See\n",
        "    * https://pandas.pydata.org/docs/reference/api/pandas.DataFrame.to_hdf.html\n",
        "    * https://pandas.pydata.org/docs/reference/api/pandas.read_hdf.html"
      ]
    },
    {
      "cell_type": "markdown",
      "source": [
        "####Read data"
      ],
      "metadata": {
        "id": "aBM2DgGvcgxN"
      }
    },
    {
      "cell_type": "code",
      "execution_count": null,
      "metadata": {
        "id": "Ncfwq5yQv0cN"
      },
      "outputs": [],
      "source": [
        "#-------------------------------\n",
        "# Your code goes here.\n",
        "# Add as many cells as you need\n",
        "#-------------------------------\n",
        "# Create a HDF5\n",
        "\n"
      ]
    },
    {
      "cell_type": "code",
      "source": [
        "from matplotlib import pyplot as plt\n",
        "import numpy as np"
      ],
      "metadata": {
        "id": "8rRvuorxTTdN"
      },
      "execution_count": null,
      "outputs": []
    },
    {
      "cell_type": "code",
      "source": [
        "from google.colab import drive\n",
        "# To mount at google drive\n",
        "drive.mount(\"/content/drive\", force_remount=True)"
      ],
      "metadata": {
        "colab": {
          "base_uri": "https://localhost:8080/"
        },
        "outputId": "9ea63d37-89ef-4fed-e70b-5f3ec7998abf",
        "id": "QbK5tYh5v0cN"
      },
      "execution_count": null,
      "outputs": [
        {
          "output_type": "stream",
          "name": "stdout",
          "text": [
            "Mounted at /content/drive\n"
          ]
        }
      ]
    },
    {
      "cell_type": "code",
      "execution_count": null,
      "metadata": {
        "colab": {
          "base_uri": "https://localhost:8080/",
          "height": 464
        },
        "outputId": "6587514c-2cb0-4851-dd3f-836b6e3efcd7",
        "id": "gkEbmmKPv0cN"
      },
      "outputs": [
        {
          "output_type": "stream",
          "name": "stderr",
          "text": [
            "<ipython-input-11-aa240b86cd65>:2: ParserWarning: Falling back to the 'python' engine because the 'c' engine does not support regex separators (separators > 1 char and different from '\\s+' are interpreted as regex); you can avoid this warning by specifying engine='python'.\n",
            "  pd.read_table(\"/content/drive/MyDrive/Data warehouse/users.dat\", sep=\"::\", header=None, names=['X'+str(i) for i in range(1,6)])\n"
          ]
        },
        {
          "output_type": "execute_result",
          "data": {
            "text/plain": [
              "        X1 X2  X3  X4     X5\n",
              "0        1  F   1  10  48067\n",
              "1        2  M  56  16  70072\n",
              "2        3  M  25  15  55117\n",
              "3        4  M  45   7  02460\n",
              "4        5  M  25  20  55455\n",
              "...    ... ..  ..  ..    ...\n",
              "6035  6036  F  25  15  32603\n",
              "6036  6037  F  45   1  76006\n",
              "6037  6038  F  56   1  14706\n",
              "6038  6039  F  45   0  01060\n",
              "6039  6040  M  25   6  11106\n",
              "\n",
              "[6040 rows x 5 columns]"
            ],
            "text/html": [
              "\n",
              "  <div id=\"df-0a4c155b-8898-4c25-9a17-2c0d18a27a4f\" class=\"colab-df-container\">\n",
              "    <div>\n",
              "<style scoped>\n",
              "    .dataframe tbody tr th:only-of-type {\n",
              "        vertical-align: middle;\n",
              "    }\n",
              "\n",
              "    .dataframe tbody tr th {\n",
              "        vertical-align: top;\n",
              "    }\n",
              "\n",
              "    .dataframe thead th {\n",
              "        text-align: right;\n",
              "    }\n",
              "</style>\n",
              "<table border=\"1\" class=\"dataframe\">\n",
              "  <thead>\n",
              "    <tr style=\"text-align: right;\">\n",
              "      <th></th>\n",
              "      <th>X1</th>\n",
              "      <th>X2</th>\n",
              "      <th>X3</th>\n",
              "      <th>X4</th>\n",
              "      <th>X5</th>\n",
              "    </tr>\n",
              "  </thead>\n",
              "  <tbody>\n",
              "    <tr>\n",
              "      <th>0</th>\n",
              "      <td>1</td>\n",
              "      <td>F</td>\n",
              "      <td>1</td>\n",
              "      <td>10</td>\n",
              "      <td>48067</td>\n",
              "    </tr>\n",
              "    <tr>\n",
              "      <th>1</th>\n",
              "      <td>2</td>\n",
              "      <td>M</td>\n",
              "      <td>56</td>\n",
              "      <td>16</td>\n",
              "      <td>70072</td>\n",
              "    </tr>\n",
              "    <tr>\n",
              "      <th>2</th>\n",
              "      <td>3</td>\n",
              "      <td>M</td>\n",
              "      <td>25</td>\n",
              "      <td>15</td>\n",
              "      <td>55117</td>\n",
              "    </tr>\n",
              "    <tr>\n",
              "      <th>3</th>\n",
              "      <td>4</td>\n",
              "      <td>M</td>\n",
              "      <td>45</td>\n",
              "      <td>7</td>\n",
              "      <td>02460</td>\n",
              "    </tr>\n",
              "    <tr>\n",
              "      <th>4</th>\n",
              "      <td>5</td>\n",
              "      <td>M</td>\n",
              "      <td>25</td>\n",
              "      <td>20</td>\n",
              "      <td>55455</td>\n",
              "    </tr>\n",
              "    <tr>\n",
              "      <th>...</th>\n",
              "      <td>...</td>\n",
              "      <td>...</td>\n",
              "      <td>...</td>\n",
              "      <td>...</td>\n",
              "      <td>...</td>\n",
              "    </tr>\n",
              "    <tr>\n",
              "      <th>6035</th>\n",
              "      <td>6036</td>\n",
              "      <td>F</td>\n",
              "      <td>25</td>\n",
              "      <td>15</td>\n",
              "      <td>32603</td>\n",
              "    </tr>\n",
              "    <tr>\n",
              "      <th>6036</th>\n",
              "      <td>6037</td>\n",
              "      <td>F</td>\n",
              "      <td>45</td>\n",
              "      <td>1</td>\n",
              "      <td>76006</td>\n",
              "    </tr>\n",
              "    <tr>\n",
              "      <th>6037</th>\n",
              "      <td>6038</td>\n",
              "      <td>F</td>\n",
              "      <td>56</td>\n",
              "      <td>1</td>\n",
              "      <td>14706</td>\n",
              "    </tr>\n",
              "    <tr>\n",
              "      <th>6038</th>\n",
              "      <td>6039</td>\n",
              "      <td>F</td>\n",
              "      <td>45</td>\n",
              "      <td>0</td>\n",
              "      <td>01060</td>\n",
              "    </tr>\n",
              "    <tr>\n",
              "      <th>6039</th>\n",
              "      <td>6040</td>\n",
              "      <td>M</td>\n",
              "      <td>25</td>\n",
              "      <td>6</td>\n",
              "      <td>11106</td>\n",
              "    </tr>\n",
              "  </tbody>\n",
              "</table>\n",
              "<p>6040 rows × 5 columns</p>\n",
              "</div>\n",
              "    <div class=\"colab-df-buttons\">\n",
              "\n",
              "  <div class=\"colab-df-container\">\n",
              "    <button class=\"colab-df-convert\" onclick=\"convertToInteractive('df-0a4c155b-8898-4c25-9a17-2c0d18a27a4f')\"\n",
              "            title=\"Convert this dataframe to an interactive table.\"\n",
              "            style=\"display:none;\">\n",
              "\n",
              "  <svg xmlns=\"http://www.w3.org/2000/svg\" height=\"24px\" viewBox=\"0 -960 960 960\">\n",
              "    <path d=\"M120-120v-720h720v720H120Zm60-500h600v-160H180v160Zm220 220h160v-160H400v160Zm0 220h160v-160H400v160ZM180-400h160v-160H180v160Zm440 0h160v-160H620v160ZM180-180h160v-160H180v160Zm440 0h160v-160H620v160Z\"/>\n",
              "  </svg>\n",
              "    </button>\n",
              "\n",
              "  <style>\n",
              "    .colab-df-container {\n",
              "      display:flex;\n",
              "      gap: 12px;\n",
              "    }\n",
              "\n",
              "    .colab-df-convert {\n",
              "      background-color: #E8F0FE;\n",
              "      border: none;\n",
              "      border-radius: 50%;\n",
              "      cursor: pointer;\n",
              "      display: none;\n",
              "      fill: #1967D2;\n",
              "      height: 32px;\n",
              "      padding: 0 0 0 0;\n",
              "      width: 32px;\n",
              "    }\n",
              "\n",
              "    .colab-df-convert:hover {\n",
              "      background-color: #E2EBFA;\n",
              "      box-shadow: 0px 1px 2px rgba(60, 64, 67, 0.3), 0px 1px 3px 1px rgba(60, 64, 67, 0.15);\n",
              "      fill: #174EA6;\n",
              "    }\n",
              "\n",
              "    .colab-df-buttons div {\n",
              "      margin-bottom: 4px;\n",
              "    }\n",
              "\n",
              "    [theme=dark] .colab-df-convert {\n",
              "      background-color: #3B4455;\n",
              "      fill: #D2E3FC;\n",
              "    }\n",
              "\n",
              "    [theme=dark] .colab-df-convert:hover {\n",
              "      background-color: #434B5C;\n",
              "      box-shadow: 0px 1px 3px 1px rgba(0, 0, 0, 0.15);\n",
              "      filter: drop-shadow(0px 1px 2px rgba(0, 0, 0, 0.3));\n",
              "      fill: #FFFFFF;\n",
              "    }\n",
              "  </style>\n",
              "\n",
              "    <script>\n",
              "      const buttonEl =\n",
              "        document.querySelector('#df-0a4c155b-8898-4c25-9a17-2c0d18a27a4f button.colab-df-convert');\n",
              "      buttonEl.style.display =\n",
              "        google.colab.kernel.accessAllowed ? 'block' : 'none';\n",
              "\n",
              "      async function convertToInteractive(key) {\n",
              "        const element = document.querySelector('#df-0a4c155b-8898-4c25-9a17-2c0d18a27a4f');\n",
              "        const dataTable =\n",
              "          await google.colab.kernel.invokeFunction('convertToInteractive',\n",
              "                                                    [key], {});\n",
              "        if (!dataTable) return;\n",
              "\n",
              "        const docLinkHtml = 'Like what you see? Visit the ' +\n",
              "          '<a target=\"_blank\" href=https://colab.research.google.com/notebooks/data_table.ipynb>data table notebook</a>'\n",
              "          + ' to learn more about interactive tables.';\n",
              "        element.innerHTML = '';\n",
              "        dataTable['output_type'] = 'display_data';\n",
              "        await google.colab.output.renderOutput(dataTable, element);\n",
              "        const docLink = document.createElement('div');\n",
              "        docLink.innerHTML = docLinkHtml;\n",
              "        element.appendChild(docLink);\n",
              "      }\n",
              "    </script>\n",
              "  </div>\n",
              "\n",
              "\n",
              "<div id=\"df-6074af56-16ea-4bb7-8544-70df5db72185\">\n",
              "  <button class=\"colab-df-quickchart\" onclick=\"quickchart('df-6074af56-16ea-4bb7-8544-70df5db72185')\"\n",
              "            title=\"Suggest charts.\"\n",
              "            style=\"display:none;\">\n",
              "\n",
              "<svg xmlns=\"http://www.w3.org/2000/svg\" height=\"24px\"viewBox=\"0 0 24 24\"\n",
              "     width=\"24px\">\n",
              "    <g>\n",
              "        <path d=\"M19 3H5c-1.1 0-2 .9-2 2v14c0 1.1.9 2 2 2h14c1.1 0 2-.9 2-2V5c0-1.1-.9-2-2-2zM9 17H7v-7h2v7zm4 0h-2V7h2v10zm4 0h-2v-4h2v4z\"/>\n",
              "    </g>\n",
              "</svg>\n",
              "  </button>\n",
              "\n",
              "<style>\n",
              "  .colab-df-quickchart {\n",
              "      --bg-color: #E8F0FE;\n",
              "      --fill-color: #1967D2;\n",
              "      --hover-bg-color: #E2EBFA;\n",
              "      --hover-fill-color: #174EA6;\n",
              "      --disabled-fill-color: #AAA;\n",
              "      --disabled-bg-color: #DDD;\n",
              "  }\n",
              "\n",
              "  [theme=dark] .colab-df-quickchart {\n",
              "      --bg-color: #3B4455;\n",
              "      --fill-color: #D2E3FC;\n",
              "      --hover-bg-color: #434B5C;\n",
              "      --hover-fill-color: #FFFFFF;\n",
              "      --disabled-bg-color: #3B4455;\n",
              "      --disabled-fill-color: #666;\n",
              "  }\n",
              "\n",
              "  .colab-df-quickchart {\n",
              "    background-color: var(--bg-color);\n",
              "    border: none;\n",
              "    border-radius: 50%;\n",
              "    cursor: pointer;\n",
              "    display: none;\n",
              "    fill: var(--fill-color);\n",
              "    height: 32px;\n",
              "    padding: 0;\n",
              "    width: 32px;\n",
              "  }\n",
              "\n",
              "  .colab-df-quickchart:hover {\n",
              "    background-color: var(--hover-bg-color);\n",
              "    box-shadow: 0 1px 2px rgba(60, 64, 67, 0.3), 0 1px 3px 1px rgba(60, 64, 67, 0.15);\n",
              "    fill: var(--button-hover-fill-color);\n",
              "  }\n",
              "\n",
              "  .colab-df-quickchart-complete:disabled,\n",
              "  .colab-df-quickchart-complete:disabled:hover {\n",
              "    background-color: var(--disabled-bg-color);\n",
              "    fill: var(--disabled-fill-color);\n",
              "    box-shadow: none;\n",
              "  }\n",
              "\n",
              "  .colab-df-spinner {\n",
              "    border: 2px solid var(--fill-color);\n",
              "    border-color: transparent;\n",
              "    border-bottom-color: var(--fill-color);\n",
              "    animation:\n",
              "      spin 1s steps(1) infinite;\n",
              "  }\n",
              "\n",
              "  @keyframes spin {\n",
              "    0% {\n",
              "      border-color: transparent;\n",
              "      border-bottom-color: var(--fill-color);\n",
              "      border-left-color: var(--fill-color);\n",
              "    }\n",
              "    20% {\n",
              "      border-color: transparent;\n",
              "      border-left-color: var(--fill-color);\n",
              "      border-top-color: var(--fill-color);\n",
              "    }\n",
              "    30% {\n",
              "      border-color: transparent;\n",
              "      border-left-color: var(--fill-color);\n",
              "      border-top-color: var(--fill-color);\n",
              "      border-right-color: var(--fill-color);\n",
              "    }\n",
              "    40% {\n",
              "      border-color: transparent;\n",
              "      border-right-color: var(--fill-color);\n",
              "      border-top-color: var(--fill-color);\n",
              "    }\n",
              "    60% {\n",
              "      border-color: transparent;\n",
              "      border-right-color: var(--fill-color);\n",
              "    }\n",
              "    80% {\n",
              "      border-color: transparent;\n",
              "      border-right-color: var(--fill-color);\n",
              "      border-bottom-color: var(--fill-color);\n",
              "    }\n",
              "    90% {\n",
              "      border-color: transparent;\n",
              "      border-bottom-color: var(--fill-color);\n",
              "    }\n",
              "  }\n",
              "</style>\n",
              "\n",
              "  <script>\n",
              "    async function quickchart(key) {\n",
              "      const quickchartButtonEl =\n",
              "        document.querySelector('#' + key + ' button');\n",
              "      quickchartButtonEl.disabled = true;  // To prevent multiple clicks.\n",
              "      quickchartButtonEl.classList.add('colab-df-spinner');\n",
              "      try {\n",
              "        const charts = await google.colab.kernel.invokeFunction(\n",
              "            'suggestCharts', [key], {});\n",
              "      } catch (error) {\n",
              "        console.error('Error during call to suggestCharts:', error);\n",
              "      }\n",
              "      quickchartButtonEl.classList.remove('colab-df-spinner');\n",
              "      quickchartButtonEl.classList.add('colab-df-quickchart-complete');\n",
              "    }\n",
              "    (() => {\n",
              "      let quickchartButtonEl =\n",
              "        document.querySelector('#df-6074af56-16ea-4bb7-8544-70df5db72185 button');\n",
              "      quickchartButtonEl.style.display =\n",
              "        google.colab.kernel.accessAllowed ? 'block' : 'none';\n",
              "    })();\n",
              "  </script>\n",
              "</div>\n",
              "    </div>\n",
              "  </div>\n"
            ]
          },
          "metadata": {},
          "execution_count": 11
        }
      ],
      "source": [
        "import pandas as pd\n",
        "pd.read_table(\"/content/drive/MyDrive/Data warehouse/users.dat\", sep=\"::\", header=None, names=['X'+str(i) for i in range(1,6)])"
      ]
    },
    {
      "cell_type": "code",
      "source": [
        "# Read table files into DataFrames\n",
        "import pandas as pd\n",
        "users_df = pd.read_table(\"/content/drive/MyDrive/Data warehouse/users.dat\", sep='::', engine='python', header=None,\n",
        "                       names=['UserID', 'Gender', 'Age', 'Occupation', 'Zip-code'])\n",
        "movies_df = pd.read_table(\"/content/drive/MyDrive/Data warehouse/movies.dat\", sep='::',encoding = \"ISO-8859-1\", header=None,\n",
        "                        names= ['MovieID','Title','Genres'])\n",
        "ratings_df = pd.read_table(\"/content/drive/MyDrive/Data warehouse/ratings.dat\", sep='::', engine='python', header=None,\n",
        "                         names=['UserID','MovieID','Rating','Timestamp'])\n"
      ],
      "metadata": {
        "id": "_muM2fi0ThcR",
        "outputId": "c63572d9-1597-4215-c8c4-dbcecb84a58e",
        "colab": {
          "base_uri": "https://localhost:8080/"
        }
      },
      "execution_count": null,
      "outputs": [
        {
          "output_type": "stream",
          "name": "stderr",
          "text": [
            "<ipython-input-12-1bc8a9f8606b>:5: ParserWarning: Falling back to the 'python' engine because the 'c' engine does not support regex separators (separators > 1 char and different from '\\s+' are interpreted as regex); you can avoid this warning by specifying engine='python'.\n",
            "  movies_df = pd.read_table(\"/content/drive/MyDrive/Data warehouse/movies.dat\", sep='::',encoding = \"ISO-8859-1\", header=None,\n"
          ]
        }
      ]
    },
    {
      "cell_type": "code",
      "source": [
        "# Merge DataFrames\n",
        "merged_df = pd.merge(pd.merge(ratings_df, users_df, on='UserID'), movies_df, on='MovieID')\n",
        "merged_df"
      ],
      "metadata": {
        "id": "ZAhA2zkTUrZF",
        "outputId": "bba1b661-24c7-4f05-9be4-94164bbcc9bd",
        "colab": {
          "base_uri": "https://localhost:8080/",
          "height": 411
        }
      },
      "execution_count": null,
      "outputs": [
        {
          "output_type": "execute_result",
          "data": {
            "text/plain": [
              "         UserID  MovieID  Rating  Timestamp Gender  Age  Occupation Zip-code  \\\n",
              "0             1     1193       5  978300760      F    1          10    48067   \n",
              "1             2     1193       5  978298413      M   56          16    70072   \n",
              "2            12     1193       4  978220179      M   25          12    32793   \n",
              "3            15     1193       4  978199279      M   25           7    22903   \n",
              "4            17     1193       5  978158471      M   50           1    95350   \n",
              "...         ...      ...     ...        ...    ...  ...         ...      ...   \n",
              "1000204    5949     2198       5  958846401      M   18          17    47901   \n",
              "1000205    5675     2703       3  976029116      M   35          14    30030   \n",
              "1000206    5780     2845       1  958153068      M   18          17    92886   \n",
              "1000207    5851     3607       5  957756608      F   18          20    55410   \n",
              "1000208    5938     2909       4  957273353      M   25           1    35401   \n",
              "\n",
              "                                               Title                Genres  \n",
              "0             One Flew Over the Cuckoo's Nest (1975)                 Drama  \n",
              "1             One Flew Over the Cuckoo's Nest (1975)                 Drama  \n",
              "2             One Flew Over the Cuckoo's Nest (1975)                 Drama  \n",
              "3             One Flew Over the Cuckoo's Nest (1975)                 Drama  \n",
              "4             One Flew Over the Cuckoo's Nest (1975)                 Drama  \n",
              "...                                              ...                   ...  \n",
              "1000204                           Modulations (1998)           Documentary  \n",
              "1000205                        Broken Vessels (1998)                 Drama  \n",
              "1000206                            White Boys (1999)                 Drama  \n",
              "1000207                     One Little Indian (1973)  Comedy|Drama|Western  \n",
              "1000208  Five Wives, Three Secretaries and Me (1998)           Documentary  \n",
              "\n",
              "[1000209 rows x 10 columns]"
            ],
            "text/html": [
              "\n",
              "  <div id=\"df-0e887a74-9353-46ef-a067-12896d725423\" class=\"colab-df-container\">\n",
              "    <div>\n",
              "<style scoped>\n",
              "    .dataframe tbody tr th:only-of-type {\n",
              "        vertical-align: middle;\n",
              "    }\n",
              "\n",
              "    .dataframe tbody tr th {\n",
              "        vertical-align: top;\n",
              "    }\n",
              "\n",
              "    .dataframe thead th {\n",
              "        text-align: right;\n",
              "    }\n",
              "</style>\n",
              "<table border=\"1\" class=\"dataframe\">\n",
              "  <thead>\n",
              "    <tr style=\"text-align: right;\">\n",
              "      <th></th>\n",
              "      <th>UserID</th>\n",
              "      <th>MovieID</th>\n",
              "      <th>Rating</th>\n",
              "      <th>Timestamp</th>\n",
              "      <th>Gender</th>\n",
              "      <th>Age</th>\n",
              "      <th>Occupation</th>\n",
              "      <th>Zip-code</th>\n",
              "      <th>Title</th>\n",
              "      <th>Genres</th>\n",
              "    </tr>\n",
              "  </thead>\n",
              "  <tbody>\n",
              "    <tr>\n",
              "      <th>0</th>\n",
              "      <td>1</td>\n",
              "      <td>1193</td>\n",
              "      <td>5</td>\n",
              "      <td>978300760</td>\n",
              "      <td>F</td>\n",
              "      <td>1</td>\n",
              "      <td>10</td>\n",
              "      <td>48067</td>\n",
              "      <td>One Flew Over the Cuckoo's Nest (1975)</td>\n",
              "      <td>Drama</td>\n",
              "    </tr>\n",
              "    <tr>\n",
              "      <th>1</th>\n",
              "      <td>2</td>\n",
              "      <td>1193</td>\n",
              "      <td>5</td>\n",
              "      <td>978298413</td>\n",
              "      <td>M</td>\n",
              "      <td>56</td>\n",
              "      <td>16</td>\n",
              "      <td>70072</td>\n",
              "      <td>One Flew Over the Cuckoo's Nest (1975)</td>\n",
              "      <td>Drama</td>\n",
              "    </tr>\n",
              "    <tr>\n",
              "      <th>2</th>\n",
              "      <td>12</td>\n",
              "      <td>1193</td>\n",
              "      <td>4</td>\n",
              "      <td>978220179</td>\n",
              "      <td>M</td>\n",
              "      <td>25</td>\n",
              "      <td>12</td>\n",
              "      <td>32793</td>\n",
              "      <td>One Flew Over the Cuckoo's Nest (1975)</td>\n",
              "      <td>Drama</td>\n",
              "    </tr>\n",
              "    <tr>\n",
              "      <th>3</th>\n",
              "      <td>15</td>\n",
              "      <td>1193</td>\n",
              "      <td>4</td>\n",
              "      <td>978199279</td>\n",
              "      <td>M</td>\n",
              "      <td>25</td>\n",
              "      <td>7</td>\n",
              "      <td>22903</td>\n",
              "      <td>One Flew Over the Cuckoo's Nest (1975)</td>\n",
              "      <td>Drama</td>\n",
              "    </tr>\n",
              "    <tr>\n",
              "      <th>4</th>\n",
              "      <td>17</td>\n",
              "      <td>1193</td>\n",
              "      <td>5</td>\n",
              "      <td>978158471</td>\n",
              "      <td>M</td>\n",
              "      <td>50</td>\n",
              "      <td>1</td>\n",
              "      <td>95350</td>\n",
              "      <td>One Flew Over the Cuckoo's Nest (1975)</td>\n",
              "      <td>Drama</td>\n",
              "    </tr>\n",
              "    <tr>\n",
              "      <th>...</th>\n",
              "      <td>...</td>\n",
              "      <td>...</td>\n",
              "      <td>...</td>\n",
              "      <td>...</td>\n",
              "      <td>...</td>\n",
              "      <td>...</td>\n",
              "      <td>...</td>\n",
              "      <td>...</td>\n",
              "      <td>...</td>\n",
              "      <td>...</td>\n",
              "    </tr>\n",
              "    <tr>\n",
              "      <th>1000204</th>\n",
              "      <td>5949</td>\n",
              "      <td>2198</td>\n",
              "      <td>5</td>\n",
              "      <td>958846401</td>\n",
              "      <td>M</td>\n",
              "      <td>18</td>\n",
              "      <td>17</td>\n",
              "      <td>47901</td>\n",
              "      <td>Modulations (1998)</td>\n",
              "      <td>Documentary</td>\n",
              "    </tr>\n",
              "    <tr>\n",
              "      <th>1000205</th>\n",
              "      <td>5675</td>\n",
              "      <td>2703</td>\n",
              "      <td>3</td>\n",
              "      <td>976029116</td>\n",
              "      <td>M</td>\n",
              "      <td>35</td>\n",
              "      <td>14</td>\n",
              "      <td>30030</td>\n",
              "      <td>Broken Vessels (1998)</td>\n",
              "      <td>Drama</td>\n",
              "    </tr>\n",
              "    <tr>\n",
              "      <th>1000206</th>\n",
              "      <td>5780</td>\n",
              "      <td>2845</td>\n",
              "      <td>1</td>\n",
              "      <td>958153068</td>\n",
              "      <td>M</td>\n",
              "      <td>18</td>\n",
              "      <td>17</td>\n",
              "      <td>92886</td>\n",
              "      <td>White Boys (1999)</td>\n",
              "      <td>Drama</td>\n",
              "    </tr>\n",
              "    <tr>\n",
              "      <th>1000207</th>\n",
              "      <td>5851</td>\n",
              "      <td>3607</td>\n",
              "      <td>5</td>\n",
              "      <td>957756608</td>\n",
              "      <td>F</td>\n",
              "      <td>18</td>\n",
              "      <td>20</td>\n",
              "      <td>55410</td>\n",
              "      <td>One Little Indian (1973)</td>\n",
              "      <td>Comedy|Drama|Western</td>\n",
              "    </tr>\n",
              "    <tr>\n",
              "      <th>1000208</th>\n",
              "      <td>5938</td>\n",
              "      <td>2909</td>\n",
              "      <td>4</td>\n",
              "      <td>957273353</td>\n",
              "      <td>M</td>\n",
              "      <td>25</td>\n",
              "      <td>1</td>\n",
              "      <td>35401</td>\n",
              "      <td>Five Wives, Three Secretaries and Me (1998)</td>\n",
              "      <td>Documentary</td>\n",
              "    </tr>\n",
              "  </tbody>\n",
              "</table>\n",
              "<p>1000209 rows × 10 columns</p>\n",
              "</div>\n",
              "    <div class=\"colab-df-buttons\">\n",
              "\n",
              "  <div class=\"colab-df-container\">\n",
              "    <button class=\"colab-df-convert\" onclick=\"convertToInteractive('df-0e887a74-9353-46ef-a067-12896d725423')\"\n",
              "            title=\"Convert this dataframe to an interactive table.\"\n",
              "            style=\"display:none;\">\n",
              "\n",
              "  <svg xmlns=\"http://www.w3.org/2000/svg\" height=\"24px\" viewBox=\"0 -960 960 960\">\n",
              "    <path d=\"M120-120v-720h720v720H120Zm60-500h600v-160H180v160Zm220 220h160v-160H400v160Zm0 220h160v-160H400v160ZM180-400h160v-160H180v160Zm440 0h160v-160H620v160ZM180-180h160v-160H180v160Zm440 0h160v-160H620v160Z\"/>\n",
              "  </svg>\n",
              "    </button>\n",
              "\n",
              "  <style>\n",
              "    .colab-df-container {\n",
              "      display:flex;\n",
              "      gap: 12px;\n",
              "    }\n",
              "\n",
              "    .colab-df-convert {\n",
              "      background-color: #E8F0FE;\n",
              "      border: none;\n",
              "      border-radius: 50%;\n",
              "      cursor: pointer;\n",
              "      display: none;\n",
              "      fill: #1967D2;\n",
              "      height: 32px;\n",
              "      padding: 0 0 0 0;\n",
              "      width: 32px;\n",
              "    }\n",
              "\n",
              "    .colab-df-convert:hover {\n",
              "      background-color: #E2EBFA;\n",
              "      box-shadow: 0px 1px 2px rgba(60, 64, 67, 0.3), 0px 1px 3px 1px rgba(60, 64, 67, 0.15);\n",
              "      fill: #174EA6;\n",
              "    }\n",
              "\n",
              "    .colab-df-buttons div {\n",
              "      margin-bottom: 4px;\n",
              "    }\n",
              "\n",
              "    [theme=dark] .colab-df-convert {\n",
              "      background-color: #3B4455;\n",
              "      fill: #D2E3FC;\n",
              "    }\n",
              "\n",
              "    [theme=dark] .colab-df-convert:hover {\n",
              "      background-color: #434B5C;\n",
              "      box-shadow: 0px 1px 3px 1px rgba(0, 0, 0, 0.15);\n",
              "      filter: drop-shadow(0px 1px 2px rgba(0, 0, 0, 0.3));\n",
              "      fill: #FFFFFF;\n",
              "    }\n",
              "  </style>\n",
              "\n",
              "    <script>\n",
              "      const buttonEl =\n",
              "        document.querySelector('#df-0e887a74-9353-46ef-a067-12896d725423 button.colab-df-convert');\n",
              "      buttonEl.style.display =\n",
              "        google.colab.kernel.accessAllowed ? 'block' : 'none';\n",
              "\n",
              "      async function convertToInteractive(key) {\n",
              "        const element = document.querySelector('#df-0e887a74-9353-46ef-a067-12896d725423');\n",
              "        const dataTable =\n",
              "          await google.colab.kernel.invokeFunction('convertToInteractive',\n",
              "                                                    [key], {});\n",
              "        if (!dataTable) return;\n",
              "\n",
              "        const docLinkHtml = 'Like what you see? Visit the ' +\n",
              "          '<a target=\"_blank\" href=https://colab.research.google.com/notebooks/data_table.ipynb>data table notebook</a>'\n",
              "          + ' to learn more about interactive tables.';\n",
              "        element.innerHTML = '';\n",
              "        dataTable['output_type'] = 'display_data';\n",
              "        await google.colab.output.renderOutput(dataTable, element);\n",
              "        const docLink = document.createElement('div');\n",
              "        docLink.innerHTML = docLinkHtml;\n",
              "        element.appendChild(docLink);\n",
              "      }\n",
              "    </script>\n",
              "  </div>\n",
              "\n",
              "\n",
              "<div id=\"df-aabe31e1-e485-425c-acf9-40b3c44a98e5\">\n",
              "  <button class=\"colab-df-quickchart\" onclick=\"quickchart('df-aabe31e1-e485-425c-acf9-40b3c44a98e5')\"\n",
              "            title=\"Suggest charts.\"\n",
              "            style=\"display:none;\">\n",
              "\n",
              "<svg xmlns=\"http://www.w3.org/2000/svg\" height=\"24px\"viewBox=\"0 0 24 24\"\n",
              "     width=\"24px\">\n",
              "    <g>\n",
              "        <path d=\"M19 3H5c-1.1 0-2 .9-2 2v14c0 1.1.9 2 2 2h14c1.1 0 2-.9 2-2V5c0-1.1-.9-2-2-2zM9 17H7v-7h2v7zm4 0h-2V7h2v10zm4 0h-2v-4h2v4z\"/>\n",
              "    </g>\n",
              "</svg>\n",
              "  </button>\n",
              "\n",
              "<style>\n",
              "  .colab-df-quickchart {\n",
              "      --bg-color: #E8F0FE;\n",
              "      --fill-color: #1967D2;\n",
              "      --hover-bg-color: #E2EBFA;\n",
              "      --hover-fill-color: #174EA6;\n",
              "      --disabled-fill-color: #AAA;\n",
              "      --disabled-bg-color: #DDD;\n",
              "  }\n",
              "\n",
              "  [theme=dark] .colab-df-quickchart {\n",
              "      --bg-color: #3B4455;\n",
              "      --fill-color: #D2E3FC;\n",
              "      --hover-bg-color: #434B5C;\n",
              "      --hover-fill-color: #FFFFFF;\n",
              "      --disabled-bg-color: #3B4455;\n",
              "      --disabled-fill-color: #666;\n",
              "  }\n",
              "\n",
              "  .colab-df-quickchart {\n",
              "    background-color: var(--bg-color);\n",
              "    border: none;\n",
              "    border-radius: 50%;\n",
              "    cursor: pointer;\n",
              "    display: none;\n",
              "    fill: var(--fill-color);\n",
              "    height: 32px;\n",
              "    padding: 0;\n",
              "    width: 32px;\n",
              "  }\n",
              "\n",
              "  .colab-df-quickchart:hover {\n",
              "    background-color: var(--hover-bg-color);\n",
              "    box-shadow: 0 1px 2px rgba(60, 64, 67, 0.3), 0 1px 3px 1px rgba(60, 64, 67, 0.15);\n",
              "    fill: var(--button-hover-fill-color);\n",
              "  }\n",
              "\n",
              "  .colab-df-quickchart-complete:disabled,\n",
              "  .colab-df-quickchart-complete:disabled:hover {\n",
              "    background-color: var(--disabled-bg-color);\n",
              "    fill: var(--disabled-fill-color);\n",
              "    box-shadow: none;\n",
              "  }\n",
              "\n",
              "  .colab-df-spinner {\n",
              "    border: 2px solid var(--fill-color);\n",
              "    border-color: transparent;\n",
              "    border-bottom-color: var(--fill-color);\n",
              "    animation:\n",
              "      spin 1s steps(1) infinite;\n",
              "  }\n",
              "\n",
              "  @keyframes spin {\n",
              "    0% {\n",
              "      border-color: transparent;\n",
              "      border-bottom-color: var(--fill-color);\n",
              "      border-left-color: var(--fill-color);\n",
              "    }\n",
              "    20% {\n",
              "      border-color: transparent;\n",
              "      border-left-color: var(--fill-color);\n",
              "      border-top-color: var(--fill-color);\n",
              "    }\n",
              "    30% {\n",
              "      border-color: transparent;\n",
              "      border-left-color: var(--fill-color);\n",
              "      border-top-color: var(--fill-color);\n",
              "      border-right-color: var(--fill-color);\n",
              "    }\n",
              "    40% {\n",
              "      border-color: transparent;\n",
              "      border-right-color: var(--fill-color);\n",
              "      border-top-color: var(--fill-color);\n",
              "    }\n",
              "    60% {\n",
              "      border-color: transparent;\n",
              "      border-right-color: var(--fill-color);\n",
              "    }\n",
              "    80% {\n",
              "      border-color: transparent;\n",
              "      border-right-color: var(--fill-color);\n",
              "      border-bottom-color: var(--fill-color);\n",
              "    }\n",
              "    90% {\n",
              "      border-color: transparent;\n",
              "      border-bottom-color: var(--fill-color);\n",
              "    }\n",
              "  }\n",
              "</style>\n",
              "\n",
              "  <script>\n",
              "    async function quickchart(key) {\n",
              "      const quickchartButtonEl =\n",
              "        document.querySelector('#' + key + ' button');\n",
              "      quickchartButtonEl.disabled = true;  // To prevent multiple clicks.\n",
              "      quickchartButtonEl.classList.add('colab-df-spinner');\n",
              "      try {\n",
              "        const charts = await google.colab.kernel.invokeFunction(\n",
              "            'suggestCharts', [key], {});\n",
              "      } catch (error) {\n",
              "        console.error('Error during call to suggestCharts:', error);\n",
              "      }\n",
              "      quickchartButtonEl.classList.remove('colab-df-spinner');\n",
              "      quickchartButtonEl.classList.add('colab-df-quickchart-complete');\n",
              "    }\n",
              "    (() => {\n",
              "      let quickchartButtonEl =\n",
              "        document.querySelector('#df-aabe31e1-e485-425c-acf9-40b3c44a98e5 button');\n",
              "      quickchartButtonEl.style.display =\n",
              "        google.colab.kernel.accessAllowed ? 'block' : 'none';\n",
              "    })();\n",
              "  </script>\n",
              "</div>\n",
              "    </div>\n",
              "  </div>\n"
            ]
          },
          "metadata": {},
          "execution_count": 13
        }
      ]
    },
    {
      "cell_type": "code",
      "source": [
        "# Create a HDF5\n",
        "ratings_df.to_hdf('data.h5', key='rating')\n",
        "movies_df.to_hdf('data.h5', key='movie')\n",
        "users_df.to_hdf('data.h5', key='user')\n"
      ],
      "metadata": {
        "id": "_snLP1-yX9Oy"
      },
      "execution_count": null,
      "outputs": []
    },
    {
      "cell_type": "markdown",
      "metadata": {
        "id": "RGviwUjov0cO"
      },
      "source": [
        "## Report some basic details of the data you collected.  For example:\n",
        "(สร้างแค่ 1 ก็พอ ว่า Rating ของกลุ่มคนหลายแบบต่างกันยังไง)\n",
        "\n",
        "*  How many movies have an average rating over 4.5 overall?\n",
        "*  How many movies have an average rating over 4.5 among men?  How about women?\n",
        "*  How many movies have an *median* rating over 4.5 among men over age 30?  How about women over age 30?\n",
        "*  What are the ten most popular movies?\n",
        "    * Choose what you consider to be a reasonable defintion of \"popular\".\n",
        "    * Be perpared to defend this choice.\n",
        "*  Make some conjectures about how easy various groups are to please? Support your answers with data!  \n",
        "    *  For example, one might conjecture that people between the ages of 1 and 10 are the easiest to please since they are all young children.  This conjecture may or may not be true, but how would you support or disprove either conclusion with with data?\n",
        "    *  Be sure to come up with your own conjectures and support them with data!"
      ]
    },
    {
      "cell_type": "code",
      "execution_count": null,
      "metadata": {
        "id": "9p3sKgimv0cO"
      },
      "outputs": [],
      "source": [
        "#-------------------------------\n",
        "# Your code goes here.\n",
        "# Add as many cells as you need\n",
        "#-------------------------------\n"
      ]
    },
    {
      "cell_type": "markdown",
      "source": [
        "How many movies have an average rating over 4.5 overall?"
      ],
      "metadata": {
        "id": "STTltkmOcM-Q"
      }
    },
    {
      "cell_type": "code",
      "source": [
        "# Calculate the average rating for each movie\n",
        "average_ratings = merged_df.groupby('MovieID')['Rating'].mean()\n",
        "highly_rated_movies = average_ratings[average_ratings > 4.5]\n",
        "count_highly_rated_movies = len(highly_rated_movies)\n",
        "print(f\"Number of movies with an average rating over 4.5 : {count_highly_rated_movies}\",\"Movies\")"
      ],
      "metadata": {
        "id": "1tKTfL8WcZgV",
        "outputId": "000186bd-72d6-4980-97c6-525f39a37d2a",
        "colab": {
          "base_uri": "https://localhost:8080/"
        }
      },
      "execution_count": null,
      "outputs": [
        {
          "output_type": "stream",
          "name": "stdout",
          "text": [
            "Number of movies with an average rating over 4.5 : 21 Movies\n"
          ]
        }
      ]
    },
    {
      "cell_type": "markdown",
      "source": [
        "How many movies have an average rating over 4.5 among men? How about women?"
      ],
      "metadata": {
        "id": "qT8SDvlLcTQX"
      }
    },
    {
      "cell_type": "code",
      "source": [
        "# Calculate the average rating for each movie for men and women separately\n",
        "average_ratings_gender = merged_df.pivot_table(index='MovieID', columns='Gender', values='Rating', aggfunc='mean')\n",
        "\n",
        "count_highly_rated_movies_men = len(average_ratings_gender[average_ratings_gender['M'] > 4.5])\n",
        "count_highly_rated_movies_women = len(average_ratings_gender[average_ratings_gender['F'] > 4.5])\n",
        "\n",
        "print(f\"Number of movies with an average rating over 4.5 among men: {count_highly_rated_movies_men}\",\"Movies\")\n",
        "print(f\"Number of movies with an average rating over 4.5 among women: {count_highly_rated_movies_women}\",\"Movies\")\n"
      ],
      "metadata": {
        "id": "4eYtTlMoeezP",
        "outputId": "4b7b2277-e646-4977-9631-de1ebed7f46c",
        "colab": {
          "base_uri": "https://localhost:8080/"
        }
      },
      "execution_count": null,
      "outputs": [
        {
          "output_type": "stream",
          "name": "stdout",
          "text": [
            "Number of movies with an average rating over 4.5 among men: 23 Movies\n",
            "Number of movies with an average rating over 4.5 among women: 51 Movies\n"
          ]
        }
      ]
    },
    {
      "cell_type": "markdown",
      "source": [
        "How many movies have an median rating over 4.5 among men over age 30? How about women over age 30?"
      ],
      "metadata": {
        "id": "fCxrPhCPcVSD"
      }
    },
    {
      "cell_type": "code",
      "source": [
        "# Filter the DataFrame for users over the age of 30\n",
        "filtered_df = merged_df[(merged_df['Age'] > 30)]\n",
        "\n",
        "# Calculate the median rating for each movie for men and women over 30 separately\n",
        "median_ratings_gender_age30 = filtered_df.pivot_table(index='MovieID', columns='Gender', values='Rating', aggfunc='median')\n",
        "\n",
        "# Filter movies with a median rating over 4.5 for men and women over age 30 separately\n",
        "highly_rated_movies_men_age30 = median_ratings_gender_age30[median_ratings_gender_age30['M'] > 4.5]\n",
        "highly_rated_movies_women_age30 = median_ratings_gender_age30[median_ratings_gender_age30['F'] > 4.5]\n",
        "\n",
        "# Get the count of highly rated movies for men and women over age 30 separately\n",
        "count_highly_rated_movies_men_age30 = len(highly_rated_movies_men_age30)\n",
        "count_highly_rated_movies_women_age30 = len(highly_rated_movies_women_age30)\n",
        "\n",
        "print(f\"Number of movies with a median rating over 4.5 among men over age 30: {count_highly_rated_movies_men_age30}\",\"Movies\")\n",
        "print(f\"Number of movies with a median rating over 4.5 among women over age 30: {count_highly_rated_movies_women_age30}\",\"Movies\")\n"
      ],
      "metadata": {
        "id": "Iwl_cZH5gfju",
        "outputId": "43a39741-1d85-4805-caa5-9a181d3fa370",
        "colab": {
          "base_uri": "https://localhost:8080/"
        }
      },
      "execution_count": null,
      "outputs": [
        {
          "output_type": "stream",
          "name": "stdout",
          "text": [
            "Number of movies with a median rating over 4.5 among men over age 30: 86 Movies\n",
            "Number of movies with a median rating over 4.5 among women over age 30: 149 Movies\n"
          ]
        }
      ]
    },
    {
      "cell_type": "markdown",
      "source": [
        "What are the ten most popular movies?"
      ],
      "metadata": {
        "id": "t5Z3XJXvidxd"
      }
    },
    {
      "cell_type": "code",
      "source": [
        "# Calculate the number of ratings for each movie\n",
        "movie_ratings_count = merged_df.groupby('MovieID')['Rating'].count()\n",
        "\n",
        "# Merge with the movies_df to get the movie titles\n",
        "top_10_popular_movies = pd.merge(movie_ratings_count.sort_values(ascending=False).reset_index(), movies_df, on='MovieID')\n",
        "\n",
        "# Display the top 10 most popular movies\n",
        "print(\"Top 10 Most Popular Movies:\")\n",
        "top_10_popular_movies.head(10)\n"
      ],
      "metadata": {
        "id": "wzYXPwIjieVq",
        "outputId": "f0a96466-6e5a-47e4-c98e-c17c404928eb",
        "colab": {
          "base_uri": "https://localhost:8080/",
          "height": 369
        }
      },
      "execution_count": null,
      "outputs": [
        {
          "output_type": "stream",
          "name": "stdout",
          "text": [
            "Top 10 Most Popular Movies:\n"
          ]
        },
        {
          "output_type": "execute_result",
          "data": {
            "text/plain": [
              "   MovieID  Rating                                              Title  \\\n",
              "0     2858    3428                             American Beauty (1999)   \n",
              "1      260    2991          Star Wars: Episode IV - A New Hope (1977)   \n",
              "2     1196    2990  Star Wars: Episode V - The Empire Strikes Back...   \n",
              "3     1210    2883  Star Wars: Episode VI - Return of the Jedi (1983)   \n",
              "4      480    2672                               Jurassic Park (1993)   \n",
              "5     2028    2653                         Saving Private Ryan (1998)   \n",
              "6      589    2649                  Terminator 2: Judgment Day (1991)   \n",
              "7     2571    2590                                 Matrix, The (1999)   \n",
              "8     1270    2583                          Back to the Future (1985)   \n",
              "9      593    2578                   Silence of the Lambs, The (1991)   \n",
              "\n",
              "                                Genres  \n",
              "0                         Comedy|Drama  \n",
              "1      Action|Adventure|Fantasy|Sci-Fi  \n",
              "2    Action|Adventure|Drama|Sci-Fi|War  \n",
              "3  Action|Adventure|Romance|Sci-Fi|War  \n",
              "4              Action|Adventure|Sci-Fi  \n",
              "5                     Action|Drama|War  \n",
              "6               Action|Sci-Fi|Thriller  \n",
              "7               Action|Sci-Fi|Thriller  \n",
              "8                        Comedy|Sci-Fi  \n",
              "9                       Drama|Thriller  "
            ],
            "text/html": [
              "\n",
              "  <div id=\"df-ed4c0643-13a9-4296-a250-f5017654bd38\" class=\"colab-df-container\">\n",
              "    <div>\n",
              "<style scoped>\n",
              "    .dataframe tbody tr th:only-of-type {\n",
              "        vertical-align: middle;\n",
              "    }\n",
              "\n",
              "    .dataframe tbody tr th {\n",
              "        vertical-align: top;\n",
              "    }\n",
              "\n",
              "    .dataframe thead th {\n",
              "        text-align: right;\n",
              "    }\n",
              "</style>\n",
              "<table border=\"1\" class=\"dataframe\">\n",
              "  <thead>\n",
              "    <tr style=\"text-align: right;\">\n",
              "      <th></th>\n",
              "      <th>MovieID</th>\n",
              "      <th>Rating</th>\n",
              "      <th>Title</th>\n",
              "      <th>Genres</th>\n",
              "    </tr>\n",
              "  </thead>\n",
              "  <tbody>\n",
              "    <tr>\n",
              "      <th>0</th>\n",
              "      <td>2858</td>\n",
              "      <td>3428</td>\n",
              "      <td>American Beauty (1999)</td>\n",
              "      <td>Comedy|Drama</td>\n",
              "    </tr>\n",
              "    <tr>\n",
              "      <th>1</th>\n",
              "      <td>260</td>\n",
              "      <td>2991</td>\n",
              "      <td>Star Wars: Episode IV - A New Hope (1977)</td>\n",
              "      <td>Action|Adventure|Fantasy|Sci-Fi</td>\n",
              "    </tr>\n",
              "    <tr>\n",
              "      <th>2</th>\n",
              "      <td>1196</td>\n",
              "      <td>2990</td>\n",
              "      <td>Star Wars: Episode V - The Empire Strikes Back...</td>\n",
              "      <td>Action|Adventure|Drama|Sci-Fi|War</td>\n",
              "    </tr>\n",
              "    <tr>\n",
              "      <th>3</th>\n",
              "      <td>1210</td>\n",
              "      <td>2883</td>\n",
              "      <td>Star Wars: Episode VI - Return of the Jedi (1983)</td>\n",
              "      <td>Action|Adventure|Romance|Sci-Fi|War</td>\n",
              "    </tr>\n",
              "    <tr>\n",
              "      <th>4</th>\n",
              "      <td>480</td>\n",
              "      <td>2672</td>\n",
              "      <td>Jurassic Park (1993)</td>\n",
              "      <td>Action|Adventure|Sci-Fi</td>\n",
              "    </tr>\n",
              "    <tr>\n",
              "      <th>5</th>\n",
              "      <td>2028</td>\n",
              "      <td>2653</td>\n",
              "      <td>Saving Private Ryan (1998)</td>\n",
              "      <td>Action|Drama|War</td>\n",
              "    </tr>\n",
              "    <tr>\n",
              "      <th>6</th>\n",
              "      <td>589</td>\n",
              "      <td>2649</td>\n",
              "      <td>Terminator 2: Judgment Day (1991)</td>\n",
              "      <td>Action|Sci-Fi|Thriller</td>\n",
              "    </tr>\n",
              "    <tr>\n",
              "      <th>7</th>\n",
              "      <td>2571</td>\n",
              "      <td>2590</td>\n",
              "      <td>Matrix, The (1999)</td>\n",
              "      <td>Action|Sci-Fi|Thriller</td>\n",
              "    </tr>\n",
              "    <tr>\n",
              "      <th>8</th>\n",
              "      <td>1270</td>\n",
              "      <td>2583</td>\n",
              "      <td>Back to the Future (1985)</td>\n",
              "      <td>Comedy|Sci-Fi</td>\n",
              "    </tr>\n",
              "    <tr>\n",
              "      <th>9</th>\n",
              "      <td>593</td>\n",
              "      <td>2578</td>\n",
              "      <td>Silence of the Lambs, The (1991)</td>\n",
              "      <td>Drama|Thriller</td>\n",
              "    </tr>\n",
              "  </tbody>\n",
              "</table>\n",
              "</div>\n",
              "    <div class=\"colab-df-buttons\">\n",
              "\n",
              "  <div class=\"colab-df-container\">\n",
              "    <button class=\"colab-df-convert\" onclick=\"convertToInteractive('df-ed4c0643-13a9-4296-a250-f5017654bd38')\"\n",
              "            title=\"Convert this dataframe to an interactive table.\"\n",
              "            style=\"display:none;\">\n",
              "\n",
              "  <svg xmlns=\"http://www.w3.org/2000/svg\" height=\"24px\" viewBox=\"0 -960 960 960\">\n",
              "    <path d=\"M120-120v-720h720v720H120Zm60-500h600v-160H180v160Zm220 220h160v-160H400v160Zm0 220h160v-160H400v160ZM180-400h160v-160H180v160Zm440 0h160v-160H620v160ZM180-180h160v-160H180v160Zm440 0h160v-160H620v160Z\"/>\n",
              "  </svg>\n",
              "    </button>\n",
              "\n",
              "  <style>\n",
              "    .colab-df-container {\n",
              "      display:flex;\n",
              "      gap: 12px;\n",
              "    }\n",
              "\n",
              "    .colab-df-convert {\n",
              "      background-color: #E8F0FE;\n",
              "      border: none;\n",
              "      border-radius: 50%;\n",
              "      cursor: pointer;\n",
              "      display: none;\n",
              "      fill: #1967D2;\n",
              "      height: 32px;\n",
              "      padding: 0 0 0 0;\n",
              "      width: 32px;\n",
              "    }\n",
              "\n",
              "    .colab-df-convert:hover {\n",
              "      background-color: #E2EBFA;\n",
              "      box-shadow: 0px 1px 2px rgba(60, 64, 67, 0.3), 0px 1px 3px 1px rgba(60, 64, 67, 0.15);\n",
              "      fill: #174EA6;\n",
              "    }\n",
              "\n",
              "    .colab-df-buttons div {\n",
              "      margin-bottom: 4px;\n",
              "    }\n",
              "\n",
              "    [theme=dark] .colab-df-convert {\n",
              "      background-color: #3B4455;\n",
              "      fill: #D2E3FC;\n",
              "    }\n",
              "\n",
              "    [theme=dark] .colab-df-convert:hover {\n",
              "      background-color: #434B5C;\n",
              "      box-shadow: 0px 1px 3px 1px rgba(0, 0, 0, 0.15);\n",
              "      filter: drop-shadow(0px 1px 2px rgba(0, 0, 0, 0.3));\n",
              "      fill: #FFFFFF;\n",
              "    }\n",
              "  </style>\n",
              "\n",
              "    <script>\n",
              "      const buttonEl =\n",
              "        document.querySelector('#df-ed4c0643-13a9-4296-a250-f5017654bd38 button.colab-df-convert');\n",
              "      buttonEl.style.display =\n",
              "        google.colab.kernel.accessAllowed ? 'block' : 'none';\n",
              "\n",
              "      async function convertToInteractive(key) {\n",
              "        const element = document.querySelector('#df-ed4c0643-13a9-4296-a250-f5017654bd38');\n",
              "        const dataTable =\n",
              "          await google.colab.kernel.invokeFunction('convertToInteractive',\n",
              "                                                    [key], {});\n",
              "        if (!dataTable) return;\n",
              "\n",
              "        const docLinkHtml = 'Like what you see? Visit the ' +\n",
              "          '<a target=\"_blank\" href=https://colab.research.google.com/notebooks/data_table.ipynb>data table notebook</a>'\n",
              "          + ' to learn more about interactive tables.';\n",
              "        element.innerHTML = '';\n",
              "        dataTable['output_type'] = 'display_data';\n",
              "        await google.colab.output.renderOutput(dataTable, element);\n",
              "        const docLink = document.createElement('div');\n",
              "        docLink.innerHTML = docLinkHtml;\n",
              "        element.appendChild(docLink);\n",
              "      }\n",
              "    </script>\n",
              "  </div>\n",
              "\n",
              "\n",
              "<div id=\"df-b66f820b-5213-48af-8303-543e42d3f037\">\n",
              "  <button class=\"colab-df-quickchart\" onclick=\"quickchart('df-b66f820b-5213-48af-8303-543e42d3f037')\"\n",
              "            title=\"Suggest charts.\"\n",
              "            style=\"display:none;\">\n",
              "\n",
              "<svg xmlns=\"http://www.w3.org/2000/svg\" height=\"24px\"viewBox=\"0 0 24 24\"\n",
              "     width=\"24px\">\n",
              "    <g>\n",
              "        <path d=\"M19 3H5c-1.1 0-2 .9-2 2v14c0 1.1.9 2 2 2h14c1.1 0 2-.9 2-2V5c0-1.1-.9-2-2-2zM9 17H7v-7h2v7zm4 0h-2V7h2v10zm4 0h-2v-4h2v4z\"/>\n",
              "    </g>\n",
              "</svg>\n",
              "  </button>\n",
              "\n",
              "<style>\n",
              "  .colab-df-quickchart {\n",
              "      --bg-color: #E8F0FE;\n",
              "      --fill-color: #1967D2;\n",
              "      --hover-bg-color: #E2EBFA;\n",
              "      --hover-fill-color: #174EA6;\n",
              "      --disabled-fill-color: #AAA;\n",
              "      --disabled-bg-color: #DDD;\n",
              "  }\n",
              "\n",
              "  [theme=dark] .colab-df-quickchart {\n",
              "      --bg-color: #3B4455;\n",
              "      --fill-color: #D2E3FC;\n",
              "      --hover-bg-color: #434B5C;\n",
              "      --hover-fill-color: #FFFFFF;\n",
              "      --disabled-bg-color: #3B4455;\n",
              "      --disabled-fill-color: #666;\n",
              "  }\n",
              "\n",
              "  .colab-df-quickchart {\n",
              "    background-color: var(--bg-color);\n",
              "    border: none;\n",
              "    border-radius: 50%;\n",
              "    cursor: pointer;\n",
              "    display: none;\n",
              "    fill: var(--fill-color);\n",
              "    height: 32px;\n",
              "    padding: 0;\n",
              "    width: 32px;\n",
              "  }\n",
              "\n",
              "  .colab-df-quickchart:hover {\n",
              "    background-color: var(--hover-bg-color);\n",
              "    box-shadow: 0 1px 2px rgba(60, 64, 67, 0.3), 0 1px 3px 1px rgba(60, 64, 67, 0.15);\n",
              "    fill: var(--button-hover-fill-color);\n",
              "  }\n",
              "\n",
              "  .colab-df-quickchart-complete:disabled,\n",
              "  .colab-df-quickchart-complete:disabled:hover {\n",
              "    background-color: var(--disabled-bg-color);\n",
              "    fill: var(--disabled-fill-color);\n",
              "    box-shadow: none;\n",
              "  }\n",
              "\n",
              "  .colab-df-spinner {\n",
              "    border: 2px solid var(--fill-color);\n",
              "    border-color: transparent;\n",
              "    border-bottom-color: var(--fill-color);\n",
              "    animation:\n",
              "      spin 1s steps(1) infinite;\n",
              "  }\n",
              "\n",
              "  @keyframes spin {\n",
              "    0% {\n",
              "      border-color: transparent;\n",
              "      border-bottom-color: var(--fill-color);\n",
              "      border-left-color: var(--fill-color);\n",
              "    }\n",
              "    20% {\n",
              "      border-color: transparent;\n",
              "      border-left-color: var(--fill-color);\n",
              "      border-top-color: var(--fill-color);\n",
              "    }\n",
              "    30% {\n",
              "      border-color: transparent;\n",
              "      border-left-color: var(--fill-color);\n",
              "      border-top-color: var(--fill-color);\n",
              "      border-right-color: var(--fill-color);\n",
              "    }\n",
              "    40% {\n",
              "      border-color: transparent;\n",
              "      border-right-color: var(--fill-color);\n",
              "      border-top-color: var(--fill-color);\n",
              "    }\n",
              "    60% {\n",
              "      border-color: transparent;\n",
              "      border-right-color: var(--fill-color);\n",
              "    }\n",
              "    80% {\n",
              "      border-color: transparent;\n",
              "      border-right-color: var(--fill-color);\n",
              "      border-bottom-color: var(--fill-color);\n",
              "    }\n",
              "    90% {\n",
              "      border-color: transparent;\n",
              "      border-bottom-color: var(--fill-color);\n",
              "    }\n",
              "  }\n",
              "</style>\n",
              "\n",
              "  <script>\n",
              "    async function quickchart(key) {\n",
              "      const quickchartButtonEl =\n",
              "        document.querySelector('#' + key + ' button');\n",
              "      quickchartButtonEl.disabled = true;  // To prevent multiple clicks.\n",
              "      quickchartButtonEl.classList.add('colab-df-spinner');\n",
              "      try {\n",
              "        const charts = await google.colab.kernel.invokeFunction(\n",
              "            'suggestCharts', [key], {});\n",
              "      } catch (error) {\n",
              "        console.error('Error during call to suggestCharts:', error);\n",
              "      }\n",
              "      quickchartButtonEl.classList.remove('colab-df-spinner');\n",
              "      quickchartButtonEl.classList.add('colab-df-quickchart-complete');\n",
              "    }\n",
              "    (() => {\n",
              "      let quickchartButtonEl =\n",
              "        document.querySelector('#df-b66f820b-5213-48af-8303-543e42d3f037 button');\n",
              "      quickchartButtonEl.style.display =\n",
              "        google.colab.kernel.accessAllowed ? 'block' : 'none';\n",
              "    })();\n",
              "  </script>\n",
              "</div>\n",
              "    </div>\n",
              "  </div>\n"
            ]
          },
          "metadata": {},
          "execution_count": 19
        }
      ]
    },
    {
      "cell_type": "markdown",
      "source": [
        "Make some conjectures about how easy various groups are to please? Support your answers with data!\n",
        "\n",
        "##สมมติฐาน : เพศหญิงส่วนใหญ่ชอบดูหนัง ประเภท Drama"
      ],
      "metadata": {
        "id": "ImBSVa_0nvkX"
      }
    },
    {
      "cell_type": "code",
      "source": [
        "# Filter the DataFrame for female viewers\n",
        "female_ratings = merged_df[merged_df['Gender'] == 'F']\n",
        "\n",
        "# Split and count the genres\n",
        "genre_counts = female_ratings['Genres'].str.split('|').explode().value_counts()\n",
        "\n",
        "# Display the genres liked the most by females\n",
        "most_liked_genres = genre_counts.head(5)  # You can change the number to get more or fewer genres\n",
        "\n",
        "print(\"Genres liked the most by females:\")\n",
        "most_liked_genres\n"
      ],
      "metadata": {
        "colab": {
          "base_uri": "https://localhost:8080/"
        },
        "id": "ubFP_2O430SD",
        "outputId": "4d8fa9d3-b381-43ef-d42b-0071a42647ad"
      },
      "execution_count": 31,
      "outputs": [
        {
          "output_type": "stream",
          "name": "stdout",
          "text": [
            "Genres liked the most by females:\n"
          ]
        },
        {
          "output_type": "execute_result",
          "data": {
            "text/plain": [
              "Drama       98153\n",
              "Comedy      96271\n",
              "Romance     50297\n",
              "Action      45650\n",
              "Thriller    40308\n",
              "Name: Genres, dtype: int64"
            ]
          },
          "metadata": {},
          "execution_count": 31
        }
      ]
    },
    {
      "cell_type": "code",
      "source": [
        "# Filter the DataFrame for highly rated movies (rating 4 or 5)\n",
        "highly_rated_movies = merged_df[merged_df['Rating'].isin([4, 5])]\n",
        "\n",
        "# Create a pivot table to calculate the count of ratings for Drama movies for each gender\n",
        "pivot_table = highly_rated_movies.pivot_table(index='Genres', columns='Gender', values='Rating', aggfunc='count')\n",
        "\n",
        "# Select the 'Drama' row from the pivot table\n",
        "drama_ratings = pivot_table.loc['Drama']\n",
        "\n",
        "# Determine which gender has the higher count of ratings for Drama movies\n",
        "most_liked_gender = 'Female' if drama_ratings['F'] > drama_ratings['M'] else 'Male'\n",
        "\n",
        "print(f\"The gender that likes Drama movies the most among highly rated movies (4 or 5) is: {most_liked_gender}\")\n"
      ],
      "metadata": {
        "id": "QXaeFg9X16Vt"
      },
      "execution_count": null,
      "outputs": []
    },
    {
      "cell_type": "markdown",
      "metadata": {
        "id": "rmCWpjs-EJ2E"
      },
      "source": [
        "  # Problem 2: Expand your investigation to histograms\n",
        "\n",
        "**An obvious issue with any inferences drawn from Problem 1 is that we did not consider how many times a movie was rated.**\n",
        "* Plot a histogram of the ratings of all movies. (Plot his ของ Rating ทั้งหมด)\n",
        "* Plot a histogram of the *number* of ratings each movie recieved. (จำนวนครั้งที่หนังแต่ละเรื่องถูก rate)\n",
        "* Plot a histogram of the *average rating* for each movie.\n",
        "* Plot a histogram of the *average rating* for movies which are rated more than 100 times. (จากข้อสองดูว่าเรื่องไหน rate มากกว่า 100 ครั้ง)\n",
        "    * What do you observe about the tails of the histogram where you use all the movies versus the one where you only use movies rated more than 100 times? (เอาเฉพาะหนังที่ถูก rate เยอะมา)\n",
        "    * Which highly rated movies would you trust are actually good?  Those rated more than 100 times or those rated less than 100 times? (หนังเรื่องไหนมี rate สูงมากที่คิดว่าจะดี ก็เลือกมา)\n",
        "* Make some conjectures about the distribution of ratings? Support your answers with data!  \n",
        "    *  For example, what age range do you think has more extreme ratings?  Do you think children are more or less likely to rate a movie 1 or 5? (ช่วงอายุต่างๆมีการให้ rating ต่างกันหรือไม่ สร้าง histogram ทดสอบสมมติฐาน)\n",
        "    *  Be sure to come up with your own conjectures and support them with data!"
      ]
    },
    {
      "cell_type": "code",
      "execution_count": null,
      "metadata": {
        "collapsed": true,
        "id": "vZmzcp5iEJ2E"
      },
      "outputs": [],
      "source": [
        "#-------------------------------\n",
        "# Your code goes here.\n",
        "# Add as many cells as you need\n",
        "#-------------------------------\n",
        "\n",
        "\n"
      ]
    },
    {
      "cell_type": "code",
      "source": [
        "import matplotlib.pyplot as plt\n",
        "import numpy as np"
      ],
      "metadata": {
        "id": "o91pKBpl1BB6"
      },
      "execution_count": null,
      "outputs": []
    },
    {
      "cell_type": "code",
      "source": [
        "# Plot a histogram of the ratings of all movies. (Plot his ของ Rating ทั้งหมด)\n",
        "\n",
        "\n",
        "df_histML =movie_ratings_count [['MovieID','Rating']]\n",
        "df_histLL = df_histLL.set_index('MovieID')\n",
        "highly_rated_movies = average_ratings[average_ratings > 4.5]\n",
        "plt.hist(highly_rated_movies, bins=10, color='skyblue', edgecolor='black')\n",
        "plt.title('Average Ratings for Highly Rated Movies')\n",
        "plt.xlabel('Ratings of all movie')\n",
        "plt.ylabel('frequency')\n",
        "plt.show()\n"
      ],
      "metadata": {
        "id": "nYlYHuPT0-M9",
        "colab": {
          "base_uri": "https://localhost:8080/",
          "height": 392
        },
        "outputId": "fc57f4f5-5672-46f2-e1c6-30b5177e32a5"
      },
      "execution_count": null,
      "outputs": [
        {
          "output_type": "error",
          "ename": "KeyError",
          "evalue": "ignored",
          "traceback": [
            "\u001b[0;31m---------------------------------------------------------------------------\u001b[0m",
            "\u001b[0;31mKeyError\u001b[0m                                  Traceback (most recent call last)",
            "\u001b[0;32m<ipython-input-20-33a95acd224c>\u001b[0m in \u001b[0;36m<cell line: 4>\u001b[0;34m()\u001b[0m\n\u001b[1;32m      2\u001b[0m \u001b[0;34m\u001b[0m\u001b[0m\n\u001b[1;32m      3\u001b[0m \u001b[0;34m\u001b[0m\u001b[0m\n\u001b[0;32m----> 4\u001b[0;31m \u001b[0mdf_histLL\u001b[0m \u001b[0;34m=\u001b[0m\u001b[0mmovie_ratings_count\u001b[0m \u001b[0;34m[\u001b[0m\u001b[0;34m[\u001b[0m\u001b[0;34m'MovieID'\u001b[0m\u001b[0;34m,\u001b[0m\u001b[0;34m'Rating'\u001b[0m\u001b[0;34m]\u001b[0m\u001b[0;34m]\u001b[0m\u001b[0;34m\u001b[0m\u001b[0;34m\u001b[0m\u001b[0m\n\u001b[0m\u001b[1;32m      5\u001b[0m \u001b[0mdf_histLL\u001b[0m \u001b[0;34m=\u001b[0m \u001b[0mdf_histLL\u001b[0m\u001b[0;34m.\u001b[0m\u001b[0mset_index\u001b[0m\u001b[0;34m(\u001b[0m\u001b[0;34m'MovieID'\u001b[0m\u001b[0;34m)\u001b[0m\u001b[0;34m\u001b[0m\u001b[0;34m\u001b[0m\u001b[0m\n\u001b[1;32m      6\u001b[0m \u001b[0mhighly_rated_movies\u001b[0m \u001b[0;34m=\u001b[0m \u001b[0maverage_ratings\u001b[0m\u001b[0;34m[\u001b[0m\u001b[0maverage_ratings\u001b[0m \u001b[0;34m>\u001b[0m \u001b[0;36m4.5\u001b[0m\u001b[0;34m]\u001b[0m\u001b[0;34m\u001b[0m\u001b[0;34m\u001b[0m\u001b[0m\n",
            "\u001b[0;32m/usr/local/lib/python3.10/dist-packages/pandas/core/series.py\u001b[0m in \u001b[0;36m__getitem__\u001b[0;34m(self, key)\u001b[0m\n\u001b[1;32m   1005\u001b[0m             \u001b[0;32mreturn\u001b[0m \u001b[0mself\u001b[0m\u001b[0;34m.\u001b[0m\u001b[0m_get_values\u001b[0m\u001b[0;34m(\u001b[0m\u001b[0mkey\u001b[0m\u001b[0;34m)\u001b[0m\u001b[0;34m\u001b[0m\u001b[0;34m\u001b[0m\u001b[0m\n\u001b[1;32m   1006\u001b[0m \u001b[0;34m\u001b[0m\u001b[0m\n\u001b[0;32m-> 1007\u001b[0;31m         \u001b[0;32mreturn\u001b[0m \u001b[0mself\u001b[0m\u001b[0;34m.\u001b[0m\u001b[0m_get_with\u001b[0m\u001b[0;34m(\u001b[0m\u001b[0mkey\u001b[0m\u001b[0;34m)\u001b[0m\u001b[0;34m\u001b[0m\u001b[0;34m\u001b[0m\u001b[0m\n\u001b[0m\u001b[1;32m   1008\u001b[0m \u001b[0;34m\u001b[0m\u001b[0m\n\u001b[1;32m   1009\u001b[0m     \u001b[0;32mdef\u001b[0m \u001b[0m_get_with\u001b[0m\u001b[0;34m(\u001b[0m\u001b[0mself\u001b[0m\u001b[0;34m,\u001b[0m \u001b[0mkey\u001b[0m\u001b[0;34m)\u001b[0m\u001b[0;34m:\u001b[0m\u001b[0;34m\u001b[0m\u001b[0;34m\u001b[0m\u001b[0m\n",
            "\u001b[0;32m/usr/local/lib/python3.10/dist-packages/pandas/core/series.py\u001b[0m in \u001b[0;36m_get_with\u001b[0;34m(self, key)\u001b[0m\n\u001b[1;32m   1045\u001b[0m \u001b[0;34m\u001b[0m\u001b[0m\n\u001b[1;32m   1046\u001b[0m         \u001b[0;31m# handle the dup indexing case GH#4246\u001b[0m\u001b[0;34m\u001b[0m\u001b[0;34m\u001b[0m\u001b[0m\n\u001b[0;32m-> 1047\u001b[0;31m         \u001b[0;32mreturn\u001b[0m \u001b[0mself\u001b[0m\u001b[0;34m.\u001b[0m\u001b[0mloc\u001b[0m\u001b[0;34m[\u001b[0m\u001b[0mkey\u001b[0m\u001b[0;34m]\u001b[0m\u001b[0;34m\u001b[0m\u001b[0;34m\u001b[0m\u001b[0m\n\u001b[0m\u001b[1;32m   1048\u001b[0m \u001b[0;34m\u001b[0m\u001b[0m\n\u001b[1;32m   1049\u001b[0m     \u001b[0;32mdef\u001b[0m \u001b[0m_get_values_tuple\u001b[0m\u001b[0;34m(\u001b[0m\u001b[0mself\u001b[0m\u001b[0;34m,\u001b[0m \u001b[0mkey\u001b[0m\u001b[0;34m:\u001b[0m \u001b[0mtuple\u001b[0m\u001b[0;34m)\u001b[0m\u001b[0;34m:\u001b[0m\u001b[0;34m\u001b[0m\u001b[0;34m\u001b[0m\u001b[0m\n",
            "\u001b[0;32m/usr/local/lib/python3.10/dist-packages/pandas/core/indexing.py\u001b[0m in \u001b[0;36m__getitem__\u001b[0;34m(self, key)\u001b[0m\n\u001b[1;32m   1071\u001b[0m \u001b[0;34m\u001b[0m\u001b[0m\n\u001b[1;32m   1072\u001b[0m             \u001b[0mmaybe_callable\u001b[0m \u001b[0;34m=\u001b[0m \u001b[0mcom\u001b[0m\u001b[0;34m.\u001b[0m\u001b[0mapply_if_callable\u001b[0m\u001b[0;34m(\u001b[0m\u001b[0mkey\u001b[0m\u001b[0;34m,\u001b[0m \u001b[0mself\u001b[0m\u001b[0;34m.\u001b[0m\u001b[0mobj\u001b[0m\u001b[0;34m)\u001b[0m\u001b[0;34m\u001b[0m\u001b[0;34m\u001b[0m\u001b[0m\n\u001b[0;32m-> 1073\u001b[0;31m             \u001b[0;32mreturn\u001b[0m \u001b[0mself\u001b[0m\u001b[0;34m.\u001b[0m\u001b[0m_getitem_axis\u001b[0m\u001b[0;34m(\u001b[0m\u001b[0mmaybe_callable\u001b[0m\u001b[0;34m,\u001b[0m \u001b[0maxis\u001b[0m\u001b[0;34m=\u001b[0m\u001b[0maxis\u001b[0m\u001b[0;34m)\u001b[0m\u001b[0;34m\u001b[0m\u001b[0;34m\u001b[0m\u001b[0m\n\u001b[0m\u001b[1;32m   1074\u001b[0m \u001b[0;34m\u001b[0m\u001b[0m\n\u001b[1;32m   1075\u001b[0m     \u001b[0;32mdef\u001b[0m \u001b[0m_is_scalar_access\u001b[0m\u001b[0;34m(\u001b[0m\u001b[0mself\u001b[0m\u001b[0;34m,\u001b[0m \u001b[0mkey\u001b[0m\u001b[0;34m:\u001b[0m \u001b[0mtuple\u001b[0m\u001b[0;34m)\u001b[0m\u001b[0;34m:\u001b[0m\u001b[0;34m\u001b[0m\u001b[0;34m\u001b[0m\u001b[0m\n",
            "\u001b[0;32m/usr/local/lib/python3.10/dist-packages/pandas/core/indexing.py\u001b[0m in \u001b[0;36m_getitem_axis\u001b[0;34m(self, key, axis)\u001b[0m\n\u001b[1;32m   1299\u001b[0m                     \u001b[0;32mraise\u001b[0m \u001b[0mValueError\u001b[0m\u001b[0;34m(\u001b[0m\u001b[0;34m\"Cannot index with multidimensional key\"\u001b[0m\u001b[0;34m)\u001b[0m\u001b[0;34m\u001b[0m\u001b[0;34m\u001b[0m\u001b[0m\n\u001b[1;32m   1300\u001b[0m \u001b[0;34m\u001b[0m\u001b[0m\n\u001b[0;32m-> 1301\u001b[0;31m                 \u001b[0;32mreturn\u001b[0m \u001b[0mself\u001b[0m\u001b[0;34m.\u001b[0m\u001b[0m_getitem_iterable\u001b[0m\u001b[0;34m(\u001b[0m\u001b[0mkey\u001b[0m\u001b[0;34m,\u001b[0m \u001b[0maxis\u001b[0m\u001b[0;34m=\u001b[0m\u001b[0maxis\u001b[0m\u001b[0;34m)\u001b[0m\u001b[0;34m\u001b[0m\u001b[0;34m\u001b[0m\u001b[0m\n\u001b[0m\u001b[1;32m   1302\u001b[0m \u001b[0;34m\u001b[0m\u001b[0m\n\u001b[1;32m   1303\u001b[0m             \u001b[0;31m# nested tuple slicing\u001b[0m\u001b[0;34m\u001b[0m\u001b[0;34m\u001b[0m\u001b[0m\n",
            "\u001b[0;32m/usr/local/lib/python3.10/dist-packages/pandas/core/indexing.py\u001b[0m in \u001b[0;36m_getitem_iterable\u001b[0;34m(self, key, axis)\u001b[0m\n\u001b[1;32m   1237\u001b[0m \u001b[0;34m\u001b[0m\u001b[0m\n\u001b[1;32m   1238\u001b[0m         \u001b[0;31m# A collection of keys\u001b[0m\u001b[0;34m\u001b[0m\u001b[0;34m\u001b[0m\u001b[0m\n\u001b[0;32m-> 1239\u001b[0;31m         \u001b[0mkeyarr\u001b[0m\u001b[0;34m,\u001b[0m \u001b[0mindexer\u001b[0m \u001b[0;34m=\u001b[0m \u001b[0mself\u001b[0m\u001b[0;34m.\u001b[0m\u001b[0m_get_listlike_indexer\u001b[0m\u001b[0;34m(\u001b[0m\u001b[0mkey\u001b[0m\u001b[0;34m,\u001b[0m \u001b[0maxis\u001b[0m\u001b[0;34m)\u001b[0m\u001b[0;34m\u001b[0m\u001b[0;34m\u001b[0m\u001b[0m\n\u001b[0m\u001b[1;32m   1240\u001b[0m         return self.obj._reindex_with_indexers(\n\u001b[1;32m   1241\u001b[0m             \u001b[0;34m{\u001b[0m\u001b[0maxis\u001b[0m\u001b[0;34m:\u001b[0m \u001b[0;34m[\u001b[0m\u001b[0mkeyarr\u001b[0m\u001b[0;34m,\u001b[0m \u001b[0mindexer\u001b[0m\u001b[0;34m]\u001b[0m\u001b[0;34m}\u001b[0m\u001b[0;34m,\u001b[0m \u001b[0mcopy\u001b[0m\u001b[0;34m=\u001b[0m\u001b[0;32mTrue\u001b[0m\u001b[0;34m,\u001b[0m \u001b[0mallow_dups\u001b[0m\u001b[0;34m=\u001b[0m\u001b[0;32mTrue\u001b[0m\u001b[0;34m\u001b[0m\u001b[0;34m\u001b[0m\u001b[0m\n",
            "\u001b[0;32m/usr/local/lib/python3.10/dist-packages/pandas/core/indexing.py\u001b[0m in \u001b[0;36m_get_listlike_indexer\u001b[0;34m(self, key, axis)\u001b[0m\n\u001b[1;32m   1430\u001b[0m         \u001b[0maxis_name\u001b[0m \u001b[0;34m=\u001b[0m \u001b[0mself\u001b[0m\u001b[0;34m.\u001b[0m\u001b[0mobj\u001b[0m\u001b[0;34m.\u001b[0m\u001b[0m_get_axis_name\u001b[0m\u001b[0;34m(\u001b[0m\u001b[0maxis\u001b[0m\u001b[0;34m)\u001b[0m\u001b[0;34m\u001b[0m\u001b[0;34m\u001b[0m\u001b[0m\n\u001b[1;32m   1431\u001b[0m \u001b[0;34m\u001b[0m\u001b[0m\n\u001b[0;32m-> 1432\u001b[0;31m         \u001b[0mkeyarr\u001b[0m\u001b[0;34m,\u001b[0m \u001b[0mindexer\u001b[0m \u001b[0;34m=\u001b[0m \u001b[0max\u001b[0m\u001b[0;34m.\u001b[0m\u001b[0m_get_indexer_strict\u001b[0m\u001b[0;34m(\u001b[0m\u001b[0mkey\u001b[0m\u001b[0;34m,\u001b[0m \u001b[0maxis_name\u001b[0m\u001b[0;34m)\u001b[0m\u001b[0;34m\u001b[0m\u001b[0;34m\u001b[0m\u001b[0m\n\u001b[0m\u001b[1;32m   1433\u001b[0m \u001b[0;34m\u001b[0m\u001b[0m\n\u001b[1;32m   1434\u001b[0m         \u001b[0;32mreturn\u001b[0m \u001b[0mkeyarr\u001b[0m\u001b[0;34m,\u001b[0m \u001b[0mindexer\u001b[0m\u001b[0;34m\u001b[0m\u001b[0;34m\u001b[0m\u001b[0m\n",
            "\u001b[0;32m/usr/local/lib/python3.10/dist-packages/pandas/core/indexes/base.py\u001b[0m in \u001b[0;36m_get_indexer_strict\u001b[0;34m(self, key, axis_name)\u001b[0m\n\u001b[1;32m   6068\u001b[0m             \u001b[0mkeyarr\u001b[0m\u001b[0;34m,\u001b[0m \u001b[0mindexer\u001b[0m\u001b[0;34m,\u001b[0m \u001b[0mnew_indexer\u001b[0m \u001b[0;34m=\u001b[0m \u001b[0mself\u001b[0m\u001b[0;34m.\u001b[0m\u001b[0m_reindex_non_unique\u001b[0m\u001b[0;34m(\u001b[0m\u001b[0mkeyarr\u001b[0m\u001b[0;34m)\u001b[0m\u001b[0;34m\u001b[0m\u001b[0;34m\u001b[0m\u001b[0m\n\u001b[1;32m   6069\u001b[0m \u001b[0;34m\u001b[0m\u001b[0m\n\u001b[0;32m-> 6070\u001b[0;31m         \u001b[0mself\u001b[0m\u001b[0;34m.\u001b[0m\u001b[0m_raise_if_missing\u001b[0m\u001b[0;34m(\u001b[0m\u001b[0mkeyarr\u001b[0m\u001b[0;34m,\u001b[0m \u001b[0mindexer\u001b[0m\u001b[0;34m,\u001b[0m \u001b[0maxis_name\u001b[0m\u001b[0;34m)\u001b[0m\u001b[0;34m\u001b[0m\u001b[0;34m\u001b[0m\u001b[0m\n\u001b[0m\u001b[1;32m   6071\u001b[0m \u001b[0;34m\u001b[0m\u001b[0m\n\u001b[1;32m   6072\u001b[0m         \u001b[0mkeyarr\u001b[0m \u001b[0;34m=\u001b[0m \u001b[0mself\u001b[0m\u001b[0;34m.\u001b[0m\u001b[0mtake\u001b[0m\u001b[0;34m(\u001b[0m\u001b[0mindexer\u001b[0m\u001b[0;34m)\u001b[0m\u001b[0;34m\u001b[0m\u001b[0;34m\u001b[0m\u001b[0m\n",
            "\u001b[0;32m/usr/local/lib/python3.10/dist-packages/pandas/core/indexes/base.py\u001b[0m in \u001b[0;36m_raise_if_missing\u001b[0;34m(self, key, indexer, axis_name)\u001b[0m\n\u001b[1;32m   6128\u001b[0m                 \u001b[0;32mif\u001b[0m \u001b[0muse_interval_msg\u001b[0m\u001b[0;34m:\u001b[0m\u001b[0;34m\u001b[0m\u001b[0;34m\u001b[0m\u001b[0m\n\u001b[1;32m   6129\u001b[0m                     \u001b[0mkey\u001b[0m \u001b[0;34m=\u001b[0m \u001b[0mlist\u001b[0m\u001b[0;34m(\u001b[0m\u001b[0mkey\u001b[0m\u001b[0;34m)\u001b[0m\u001b[0;34m\u001b[0m\u001b[0;34m\u001b[0m\u001b[0m\n\u001b[0;32m-> 6130\u001b[0;31m                 \u001b[0;32mraise\u001b[0m \u001b[0mKeyError\u001b[0m\u001b[0;34m(\u001b[0m\u001b[0;34mf\"None of [{key}] are in the [{axis_name}]\"\u001b[0m\u001b[0;34m)\u001b[0m\u001b[0;34m\u001b[0m\u001b[0;34m\u001b[0m\u001b[0m\n\u001b[0m\u001b[1;32m   6131\u001b[0m \u001b[0;34m\u001b[0m\u001b[0m\n\u001b[1;32m   6132\u001b[0m             \u001b[0mnot_found\u001b[0m \u001b[0;34m=\u001b[0m \u001b[0mlist\u001b[0m\u001b[0;34m(\u001b[0m\u001b[0mensure_index\u001b[0m\u001b[0;34m(\u001b[0m\u001b[0mkey\u001b[0m\u001b[0;34m)\u001b[0m\u001b[0;34m[\u001b[0m\u001b[0mmissing_mask\u001b[0m\u001b[0;34m.\u001b[0m\u001b[0mnonzero\u001b[0m\u001b[0;34m(\u001b[0m\u001b[0;34m)\u001b[0m\u001b[0;34m[\u001b[0m\u001b[0;36m0\u001b[0m\u001b[0;34m]\u001b[0m\u001b[0;34m]\u001b[0m\u001b[0;34m.\u001b[0m\u001b[0munique\u001b[0m\u001b[0;34m(\u001b[0m\u001b[0;34m)\u001b[0m\u001b[0;34m)\u001b[0m\u001b[0;34m\u001b[0m\u001b[0;34m\u001b[0m\u001b[0m\n",
            "\u001b[0;31mKeyError\u001b[0m: \"None of [Index(['MovieID', 'Rating'], dtype='object', name='MovieID')] are in the [index]\""
          ]
        }
      ]
    },
    {
      "cell_type": "code",
      "source": [
        "#Plot a histogram of the *number* of ratings each movie recieved. (จำนวนครั้งที่หนังแต่ละเรื่องถูก rate)"
      ],
      "metadata": {
        "id": "CWvw5KSz1auv"
      },
      "execution_count": null,
      "outputs": []
    },
    {
      "cell_type": "markdown",
      "metadata": {
        "id": "EsUNU4p5EJ2E"
      },
      "source": [
        "\n",
        "# Problem 3:\n",
        "## Correlation:  Men versus women\n",
        "\n",
        "Let look more closely at the relationship between the pieces of data we have."
      ]
    },
    {
      "cell_type": "markdown",
      "metadata": {
        "id": "R99Lq8qyEJ2F"
      },
      "source": [
        "* Make a scatter plot of men versus women and their mean rating for every movie.\n",
        "* Make a scatter plot of men versus women and their mean rating for movies rated more than 200 times.\n",
        "* Compute the *correlation coefficent* between the ratings of men and women.\n",
        "    * What do you observe?\n",
        "    * Are the ratings similiar or not? Support your answer with data!\n",
        "* Conjecture under what circumstances the rating given by one gender can be used to predict the rating given by the other gender.\n",
        "    * For example, are men and women more similar when they are younger or older?\n",
        "    * Be sure to come up with your own conjectures and support them with data!"
      ]
    },
    {
      "cell_type": "code",
      "execution_count": null,
      "metadata": {
        "id": "vT5bc-ReEJ2F"
      },
      "outputs": [],
      "source": [
        "from matplotlib import pyplot as plt\n",
        "import numpy as np\n",
        "import matplotlib"
      ]
    },
    {
      "cell_type": "markdown",
      "metadata": {
        "id": "F2HsYSuQEJ2F"
      },
      "source": [
        "### A scatter plot of men versus women and their mean rating for every movie"
      ]
    },
    {
      "cell_type": "code",
      "execution_count": null,
      "metadata": {
        "id": "Bx_W_Aq8EJ2F"
      },
      "outputs": [],
      "source": [
        "#-------------------------------\n",
        "# Your code goes here.\n",
        "# Add as many cells as you need\n",
        "#-------------------------------\n",
        "\n",
        "\n"
      ]
    },
    {
      "cell_type": "markdown",
      "metadata": {
        "id": "VoNzrAfGEJ2G"
      },
      "source": [
        "### A scatter plot of men versus women and their mean rating for movies rated more than 200 times"
      ]
    },
    {
      "cell_type": "code",
      "execution_count": null,
      "metadata": {
        "id": "Ya2v4GJLEJ2G"
      },
      "outputs": [],
      "source": [
        "#-------------------------------\n",
        "# Your code goes here.\n",
        "# Add as many cells as you need\n",
        "#-------------------------------\n",
        "\n",
        "\n"
      ]
    },
    {
      "cell_type": "markdown",
      "metadata": {
        "id": "u3yh86uGEJ2G"
      },
      "source": [
        "### The correlation coefficent between the ratings of men and women"
      ]
    },
    {
      "cell_type": "code",
      "execution_count": null,
      "metadata": {
        "id": "_lVFM48tEJ2G"
      },
      "outputs": [],
      "source": [
        "#-------------------------------\n",
        "# Your code goes here.\n",
        "# Add as many cells as you need\n",
        "#-------------------------------\n",
        "\n",
        "\n"
      ]
    },
    {
      "cell_type": "markdown",
      "metadata": {
        "id": "BTEV-FejEJ2G"
      },
      "source": [
        "## Conjecture under what circumstances the rating given by one gender can be used to predict the rating given by the other gender\n",
        "\n",
        "Example<br>\n",
        "Conjecture 1: Men and women are more similar when they are older, consider their rating over the same genres.\n",
        "\n",
        "Conjecture 2: Men and women more similar when they are academic/educator, artist, college/grad student, and programmer.\n",
        "\n",
        "Conjecture 3: Men and women more similar when they watch Action, Drama, War, and Triller."
      ]
    },
    {
      "cell_type": "code",
      "execution_count": null,
      "metadata": {
        "id": "wMVKEDLxEJ2H"
      },
      "outputs": [],
      "source": [
        "#-------------------------------\n",
        "# Your code goes here.\n",
        "# Add as many cells as you need\n",
        "#-------------------------------\n",
        "\n",
        "\n"
      ]
    },
    {
      "cell_type": "markdown",
      "metadata": {
        "id": "XJNNGoUoEJ2H"
      },
      "source": [
        "# Problem 4:\n",
        "## Open Ended Question:  Business Intelligence"
      ]
    },
    {
      "cell_type": "markdown",
      "metadata": {
        "id": "-FlkbKozEJ2H"
      },
      "source": [
        "* Do any of your conjectures in Problems 1, 2, and 3 provide insights that a movie company might be interested in?\n",
        "* Propose a business question that you think this data can answer.\n",
        "* Suppose you are a Data Sciencetist at a movie company.  **Convince your boss that your conjecture is correct!**"
      ]
    },
    {
      "cell_type": "markdown",
      "source": [
        "คิดว่าเป็นบริษัทสร้างหนัง จะสร้างหนังอะไรจ้ะ สร้างสมมติฐานว่า target แบบไหน หาข้อมูลตั้งต่าง ว่าจะตอบคำถามอะไรใช้วิธีอะไร"
      ],
      "metadata": {
        "id": "VW08TVMplXUl"
      }
    },
    {
      "cell_type": "markdown",
      "metadata": {
        "id": "4bukoAZpEJ2H"
      },
      "source": [
        "### For example, which movie to make/buy? (seperating via Genre?)"
      ]
    },
    {
      "cell_type": "code",
      "execution_count": null,
      "metadata": {
        "id": "5a1zke1_EJ2H"
      },
      "outputs": [],
      "source": [
        "#-------------------------------\n",
        "# Your code goes here.\n",
        "# Add as many cells as you need\n",
        "#-------------------------------\n",
        "\n",
        "\n"
      ]
    },
    {
      "cell_type": "markdown",
      "metadata": {
        "id": "8bO8FP1OEJ2I"
      },
      "source": [
        "# Done!\n",
        "\n",
        "**What do you need to submit?**\n",
        "\n",
        "* **Notebook File**: This is the file you need to submit. Please make sure all the plotted tables and figures are in the notebook.\n",
        "\n",
        "\n",
        "* **PPT Slides**: please prepare PPT slides (10 minutes)\n",
        "    * Motivation about the data collection, why the topic is interesting to you. อธิบายเกี่ยวกับข้อมูล สร้างแรงบันดาลใจเดี่ยวกับข้อมูลให้ผู้รับฟัง ให้ผู้ฟังเข้าใจความเป็นมาและความสำคัญของข้อมูล\n",
        "    * What is the relationship between this topic and Business Intelligence?\n",
        "    * How did you analyse the data?\n",
        "    * What conjectures did you make and how did you support or disprove them using data?\n",
        "    * Communicating Results with figures or tables\n",
        "    * Did you find anything suprising in the data?\n",
        "    * What business decision do you think this data could help answer?  Why?\n",
        "\n",
        "     (please include figures or tables in the report)\n",
        "     \n",
        "**How to submit:**\n",
        "\n",
        "        ส่ง link ของ ipynb และ slides ในรูปแบบ pdf ใน Google Classroom\n",
        "        \n",
        "**Note: Each team just needs only one submission**"
      ]
    },
    {
      "cell_type": "code",
      "execution_count": null,
      "metadata": {
        "id": "iakXTtPxEJ2I"
      },
      "outputs": [],
      "source": []
    },
    {
      "cell_type": "markdown",
      "source": [
        "#ของหมู"
      ],
      "metadata": {
        "id": "k2DZUdd00Y8P"
      }
    },
    {
      "cell_type": "markdown",
      "metadata": {
        "id": "yL84eC2m0TPm"
      },
      "source": [
        "\n",
        "## Problem 3:\n",
        "### Correlation:  Men versus women\n",
        "\n",
        "Let look more closely at the relationship between the pieces of data we have."
      ]
    },
    {
      "cell_type": "markdown",
      "metadata": {
        "id": "TgTzlATj0TPo"
      },
      "source": [
        "* Make a scatter plot of men versus women and their mean rating for every movie.\n",
        "* Make a scatter plot of men versus women and their mean rating for movies rated more than 200 times.\n",
        "* Compute the *correlation coefficent* between the ratings of men and women.\n",
        "    * What do you observe?\n",
        "    * Are the ratings similiar or not? Support your answer with data!\n",
        "* Conjecture under what circumstances the rating given by one gender can be used to predict the rating given by the other gender.\n",
        "    * For example, are men and women more similar when they are younger or older?\n",
        "    * Be sure to come up with your own conjectures and support them with data!"
      ]
    },
    {
      "cell_type": "code",
      "execution_count": null,
      "metadata": {
        "id": "54zAXP1Z0TPp"
      },
      "outputs": [],
      "source": [
        "from matplotlib import pyplot as plt\n",
        "import numpy as np\n",
        "import matplotlib"
      ]
    },
    {
      "cell_type": "markdown",
      "metadata": {
        "id": "n5JwmJFF0TPp"
      },
      "source": [
        "### A scatter plot of men versus women and their mean rating for every movie"
      ]
    },
    {
      "cell_type": "code",
      "execution_count": null,
      "metadata": {
        "outputId": "6f423d8b-4bc0-48e0-bbe9-2e75533b7292",
        "colab": {
          "base_uri": "https://localhost:8080/",
          "height": 561
        },
        "id": "LMgOxN3V0TPp"
      },
      "outputs": [
        {
          "output_type": "stream",
          "name": "stderr",
          "text": [
            "<ipython-input-25-0f0e4da2bbbf>:5: FutureWarning: The default value of numeric_only in DataFrameGroupBy.mean is deprecated. In a future version, numeric_only will default to False. Either specify numeric_only or select only columns which should be valid for the function.\n",
            "  data_Male_Mean = data_Male.groupby('Title').mean()\n",
            "<ipython-input-25-0f0e4da2bbbf>:6: FutureWarning: The default value of numeric_only in DataFrameGroupBy.mean is deprecated. In a future version, numeric_only will default to False. Either specify numeric_only or select only columns which should be valid for the function.\n",
            "  data_Female_Mean = data_Female.groupby('Title').mean()\n"
          ]
        },
        {
          "output_type": "display_data",
          "data": {
            "text/plain": [
              "<Figure size 640x480 with 1 Axes>"
            ],
            "image/png": "[encoded data removed]"
          },
          "metadata": {}
        }
      ],
      "source": [
        "#-------------------------------\n",
        "data_M_and_F = df_use[['Title','Gender','Rating']]\n",
        "data_Male = data_M_and_F[data_M_and_F['Gender']=='M']\n",
        "data_Female = data_M_and_F[data_M_and_F['Gender']=='F']\n",
        "data_Male_Mean = data_Male.groupby('Title').mean()\n",
        "data_Female_Mean = data_Female.groupby('Title').mean()\n",
        "data_plot = data_Male_Mean.merge(data_Female_Mean,how='left',on='Title')\n",
        "data_plot_nonna = data_plot.dropna()\n",
        "plt.scatter(data_plot_nonna['Rating_x'], data_plot_nonna['Rating_y'])\n",
        "plt.title('A scatter plot of men VS. women and their mean rating for every movie')\n",
        "plt.xlabel('mean rating men')\n",
        "plt.ylabel('mean rating women')\n",
        "plt.show()\n",
        "#-------------------------------"
      ]
    },
    {
      "cell_type": "code",
      "source": [
        "data_plot_nonna"
      ],
      "metadata": {
        "id": "8H8ntw1VeGyH",
        "outputId": "98828696-0893-474e-cac6-b395d97c6fd9",
        "colab": {
          "base_uri": "https://localhost:8080/",
          "height": 455
        }
      },
      "execution_count": null,
      "outputs": [
        {
          "output_type": "execute_result",
          "data": {
            "text/plain": [
              "                                   Rating_x  Rating_y\n",
              "Title                                                \n",
              "$1,000,000 Duck (1971)             2.761905  3.375000\n",
              "'Night Mother (1986)               3.352941  3.388889\n",
              "'Til There Was You (1997)          2.733333  2.675676\n",
              "'burbs, The (1989)                 2.962085  2.793478\n",
              "...And Justice for All (1979)      3.689024  3.828571\n",
              "...                                     ...       ...\n",
              "Your Friends and Neighbors (1998)  3.536585  2.888889\n",
              "Zed & Two Noughts, A (1985)        3.380952  3.500000\n",
              "Zero Effect (1998)                 3.723140  3.864407\n",
              "Zeus and Roxanne (1997)            2.357143  2.777778\n",
              "eXistenZ (1999)                    3.289086  3.098592\n",
              "\n",
              "[3446 rows x 2 columns]"
            ],
            "text/html": [
              "\n",
              "  <div id=\"df-8e1e972a-1624-4b75-97d2-d36a875780c5\" class=\"colab-df-container\">\n",
              "    <div>\n",
              "<style scoped>\n",
              "    .dataframe tbody tr th:only-of-type {\n",
              "        vertical-align: middle;\n",
              "    }\n",
              "\n",
              "    .dataframe tbody tr th {\n",
              "        vertical-align: top;\n",
              "    }\n",
              "\n",
              "    .dataframe thead th {\n",
              "        text-align: right;\n",
              "    }\n",
              "</style>\n",
              "<table border=\"1\" class=\"dataframe\">\n",
              "  <thead>\n",
              "    <tr style=\"text-align: right;\">\n",
              "      <th></th>\n",
              "      <th>Rating_x</th>\n",
              "      <th>Rating_y</th>\n",
              "    </tr>\n",
              "    <tr>\n",
              "      <th>Title</th>\n",
              "      <th></th>\n",
              "      <th></th>\n",
              "    </tr>\n",
              "  </thead>\n",
              "  <tbody>\n",
              "    <tr>\n",
              "      <th>$1,000,000 Duck (1971)</th>\n",
              "      <td>2.761905</td>\n",
              "      <td>3.375000</td>\n",
              "    </tr>\n",
              "    <tr>\n",
              "      <th>'Night Mother (1986)</th>\n",
              "      <td>3.352941</td>\n",
              "      <td>3.388889</td>\n",
              "    </tr>\n",
              "    <tr>\n",
              "      <th>'Til There Was You (1997)</th>\n",
              "      <td>2.733333</td>\n",
              "      <td>2.675676</td>\n",
              "    </tr>\n",
              "    <tr>\n",
              "      <th>'burbs, The (1989)</th>\n",
              "      <td>2.962085</td>\n",
              "      <td>2.793478</td>\n",
              "    </tr>\n",
              "    <tr>\n",
              "      <th>...And Justice for All (1979)</th>\n",
              "      <td>3.689024</td>\n",
              "      <td>3.828571</td>\n",
              "    </tr>\n",
              "    <tr>\n",
              "      <th>...</th>\n",
              "      <td>...</td>\n",
              "      <td>...</td>\n",
              "    </tr>\n",
              "    <tr>\n",
              "      <th>Your Friends and Neighbors (1998)</th>\n",
              "      <td>3.536585</td>\n",
              "      <td>2.888889</td>\n",
              "    </tr>\n",
              "    <tr>\n",
              "      <th>Zed &amp; Two Noughts, A (1985)</th>\n",
              "      <td>3.380952</td>\n",
              "      <td>3.500000</td>\n",
              "    </tr>\n",
              "    <tr>\n",
              "      <th>Zero Effect (1998)</th>\n",
              "      <td>3.723140</td>\n",
              "      <td>3.864407</td>\n",
              "    </tr>\n",
              "    <tr>\n",
              "      <th>Zeus and Roxanne (1997)</th>\n",
              "      <td>2.357143</td>\n",
              "      <td>2.777778</td>\n",
              "    </tr>\n",
              "    <tr>\n",
              "      <th>eXistenZ (1999)</th>\n",
              "      <td>3.289086</td>\n",
              "      <td>3.098592</td>\n",
              "    </tr>\n",
              "  </tbody>\n",
              "</table>\n",
              "<p>3446 rows × 2 columns</p>\n",
              "</div>\n",
              "    <div class=\"colab-df-buttons\">\n",
              "\n",
              "  <div class=\"colab-df-container\">\n",
              "    <button class=\"colab-df-convert\" onclick=\"convertToInteractive('df-8e1e972a-1624-4b75-97d2-d36a875780c5')\"\n",
              "            title=\"Convert this dataframe to an interactive table.\"\n",
              "            style=\"display:none;\">\n",
              "\n",
              "  <svg xmlns=\"http://www.w3.org/2000/svg\" height=\"24px\" viewBox=\"0 -960 960 960\">\n",
              "    <path d=\"M120-120v-720h720v720H120Zm60-500h600v-160H180v160Zm220 220h160v-160H400v160Zm0 220h160v-160H400v160ZM180-400h160v-160H180v160Zm440 0h160v-160H620v160ZM180-180h160v-160H180v160Zm440 0h160v-160H620v160Z\"/>\n",
              "  </svg>\n",
              "    </button>\n",
              "\n",
              "  <style>\n",
              "    .colab-df-container {\n",
              "      display:flex;\n",
              "      gap: 12px;\n",
              "    }\n",
              "\n",
              "    .colab-df-convert {\n",
              "      background-color: #E8F0FE;\n",
              "      border: none;\n",
              "      border-radius: 50%;\n",
              "      cursor: pointer;\n",
              "      display: none;\n",
              "      fill: #1967D2;\n",
              "      height: 32px;\n",
              "      padding: 0 0 0 0;\n",
              "      width: 32px;\n",
              "    }\n",
              "\n",
              "    .colab-df-convert:hover {\n",
              "      background-color: #E2EBFA;\n",
              "      box-shadow: 0px 1px 2px rgba(60, 64, 67, 0.3), 0px 1px 3px 1px rgba(60, 64, 67, 0.15);\n",
              "      fill: #174EA6;\n",
              "    }\n",
              "\n",
              "    .colab-df-buttons div {\n",
              "      margin-bottom: 4px;\n",
              "    }\n",
              "\n",
              "    [theme=dark] .colab-df-convert {\n",
              "      background-color: #3B4455;\n",
              "      fill: #D2E3FC;\n",
              "    }\n",
              "\n",
              "    [theme=dark] .colab-df-convert:hover {\n",
              "      background-color: #434B5C;\n",
              "      box-shadow: 0px 1px 3px 1px rgba(0, 0, 0, 0.15);\n",
              "      filter: drop-shadow(0px 1px 2px rgba(0, 0, 0, 0.3));\n",
              "      fill: #FFFFFF;\n",
              "    }\n",
              "  </style>\n",
              "\n",
              "    <script>\n",
              "      const buttonEl =\n",
              "        document.querySelector('#df-8e1e972a-1624-4b75-97d2-d36a875780c5 button.colab-df-convert');\n",
              "      buttonEl.style.display =\n",
              "        google.colab.kernel.accessAllowed ? 'block' : 'none';\n",
              "\n",
              "      async function convertToInteractive(key) {\n",
              "        const element = document.querySelector('#df-8e1e972a-1624-4b75-97d2-d36a875780c5');\n",
              "        const dataTable =\n",
              "          await google.colab.kernel.invokeFunction('convertToInteractive',\n",
              "                                                    [key], {});\n",
              "        if (!dataTable) return;\n",
              "\n",
              "        const docLinkHtml = 'Like what you see? Visit the ' +\n",
              "          '<a target=\"_blank\" href=https://colab.research.google.com/notebooks/data_table.ipynb>data table notebook</a>'\n",
              "          + ' to learn more about interactive tables.';\n",
              "        element.innerHTML = '';\n",
              "        dataTable['output_type'] = 'display_data';\n",
              "        await google.colab.output.renderOutput(dataTable, element);\n",
              "        const docLink = document.createElement('div');\n",
              "        docLink.innerHTML = docLinkHtml;\n",
              "        element.appendChild(docLink);\n",
              "      }\n",
              "    </script>\n",
              "  </div>\n",
              "\n",
              "\n",
              "<div id=\"df-ab3aa398-8303-4613-9e4b-028aa8640b6b\">\n",
              "  <button class=\"colab-df-quickchart\" onclick=\"quickchart('df-ab3aa398-8303-4613-9e4b-028aa8640b6b')\"\n",
              "            title=\"Suggest charts.\"\n",
              "            style=\"display:none;\">\n",
              "\n",
              "<svg xmlns=\"http://www.w3.org/2000/svg\" height=\"24px\"viewBox=\"0 0 24 24\"\n",
              "     width=\"24px\">\n",
              "    <g>\n",
              "        <path d=\"M19 3H5c-1.1 0-2 .9-2 2v14c0 1.1.9 2 2 2h14c1.1 0 2-.9 2-2V5c0-1.1-.9-2-2-2zM9 17H7v-7h2v7zm4 0h-2V7h2v10zm4 0h-2v-4h2v4z\"/>\n",
              "    </g>\n",
              "</svg>\n",
              "  </button>\n",
              "\n",
              "<style>\n",
              "  .colab-df-quickchart {\n",
              "      --bg-color: #E8F0FE;\n",
              "      --fill-color: #1967D2;\n",
              "      --hover-bg-color: #E2EBFA;\n",
              "      --hover-fill-color: #174EA6;\n",
              "      --disabled-fill-color: #AAA;\n",
              "      --disabled-bg-color: #DDD;\n",
              "  }\n",
              "\n",
              "  [theme=dark] .colab-df-quickchart {\n",
              "      --bg-color: #3B4455;\n",
              "      --fill-color: #D2E3FC;\n",
              "      --hover-bg-color: #434B5C;\n",
              "      --hover-fill-color: #FFFFFF;\n",
              "      --disabled-bg-color: #3B4455;\n",
              "      --disabled-fill-color: #666;\n",
              "  }\n",
              "\n",
              "  .colab-df-quickchart {\n",
              "    background-color: var(--bg-color);\n",
              "    border: none;\n",
              "    border-radius: 50%;\n",
              "    cursor: pointer;\n",
              "    display: none;\n",
              "    fill: var(--fill-color);\n",
              "    height: 32px;\n",
              "    padding: 0;\n",
              "    width: 32px;\n",
              "  }\n",
              "\n",
              "  .colab-df-quickchart:hover {\n",
              "    background-color: var(--hover-bg-color);\n",
              "    box-shadow: 0 1px 2px rgba(60, 64, 67, 0.3), 0 1px 3px 1px rgba(60, 64, 67, 0.15);\n",
              "    fill: var(--button-hover-fill-color);\n",
              "  }\n",
              "\n",
              "  .colab-df-quickchart-complete:disabled,\n",
              "  .colab-df-quickchart-complete:disabled:hover {\n",
              "    background-color: var(--disabled-bg-color);\n",
              "    fill: var(--disabled-fill-color);\n",
              "    box-shadow: none;\n",
              "  }\n",
              "\n",
              "  .colab-df-spinner {\n",
              "    border: 2px solid var(--fill-color);\n",
              "    border-color: transparent;\n",
              "    border-bottom-color: var(--fill-color);\n",
              "    animation:\n",
              "      spin 1s steps(1) infinite;\n",
              "  }\n",
              "\n",
              "  @keyframes spin {\n",
              "    0% {\n",
              "      border-color: transparent;\n",
              "      border-bottom-color: var(--fill-color);\n",
              "      border-left-color: var(--fill-color);\n",
              "    }\n",
              "    20% {\n",
              "      border-color: transparent;\n",
              "      border-left-color: var(--fill-color);\n",
              "      border-top-color: var(--fill-color);\n",
              "    }\n",
              "    30% {\n",
              "      border-color: transparent;\n",
              "      border-left-color: var(--fill-color);\n",
              "      border-top-color: var(--fill-color);\n",
              "      border-right-color: var(--fill-color);\n",
              "    }\n",
              "    40% {\n",
              "      border-color: transparent;\n",
              "      border-right-color: var(--fill-color);\n",
              "      border-top-color: var(--fill-color);\n",
              "    }\n",
              "    60% {\n",
              "      border-color: transparent;\n",
              "      border-right-color: var(--fill-color);\n",
              "    }\n",
              "    80% {\n",
              "      border-color: transparent;\n",
              "      border-right-color: var(--fill-color);\n",
              "      border-bottom-color: var(--fill-color);\n",
              "    }\n",
              "    90% {\n",
              "      border-color: transparent;\n",
              "      border-bottom-color: var(--fill-color);\n",
              "    }\n",
              "  }\n",
              "</style>\n",
              "\n",
              "  <script>\n",
              "    async function quickchart(key) {\n",
              "      const quickchartButtonEl =\n",
              "        document.querySelector('#' + key + ' button');\n",
              "      quickchartButtonEl.disabled = true;  // To prevent multiple clicks.\n",
              "      quickchartButtonEl.classList.add('colab-df-spinner');\n",
              "      try {\n",
              "        const charts = await google.colab.kernel.invokeFunction(\n",
              "            'suggestCharts', [key], {});\n",
              "      } catch (error) {\n",
              "        console.error('Error during call to suggestCharts:', error);\n",
              "      }\n",
              "      quickchartButtonEl.classList.remove('colab-df-spinner');\n",
              "      quickchartButtonEl.classList.add('colab-df-quickchart-complete');\n",
              "    }\n",
              "    (() => {\n",
              "      let quickchartButtonEl =\n",
              "        document.querySelector('#df-ab3aa398-8303-4613-9e4b-028aa8640b6b button');\n",
              "      quickchartButtonEl.style.display =\n",
              "        google.colab.kernel.accessAllowed ? 'block' : 'none';\n",
              "    })();\n",
              "  </script>\n",
              "</div>\n",
              "    </div>\n",
              "  </div>\n"
            ]
          },
          "metadata": {},
          "execution_count": 26
        }
      ]
    },
    {
      "cell_type": "markdown",
      "metadata": {
        "id": "2JozlWCs0TPq"
      },
      "source": [
        "### A scatter plot of men versus women and their mean rating for movies rated more than 200 times"
      ]
    },
    {
      "cell_type": "code",
      "execution_count": null,
      "metadata": {
        "outputId": "4ebc1042-1982-47fd-eb1d-6c0050f2aa3c",
        "colab": {
          "base_uri": "https://localhost:8080/",
          "height": 561
        },
        "id": "QFztad0y0TPq"
      },
      "outputs": [
        {
          "output_type": "stream",
          "name": "stderr",
          "text": [
            "<ipython-input-27-501d20c7c660>:9: FutureWarning: The default value of numeric_only in DataFrameGroupBy.mean is deprecated. In a future version, numeric_only will default to False. Either specify numeric_only or select only columns which should be valid for the function.\n",
            "  data_Male_Mean = data_Male.groupby('Title').mean()\n",
            "<ipython-input-27-501d20c7c660>:10: FutureWarning: The default value of numeric_only in DataFrameGroupBy.mean is deprecated. In a future version, numeric_only will default to False. Either specify numeric_only or select only columns which should be valid for the function.\n",
            "  data_Female_Mean = data_Female.groupby('Title').mean()\n"
          ]
        },
        {
          "output_type": "display_data",
          "data": {
            "text/plain": [
              "<Figure size 640x480 with 1 Axes>"
            ],
            "image/png": "[encoded data removed]"
          },
          "metadata": {}
        }
      ],
      "source": [
        "#-------------------------------------------------------------------------------------\n",
        "data_MF = df_use[['Title','Gender','Rating']]\n",
        "data_MF1 = data_MF[['Title','Rating']]\n",
        "data_MF2 = data_MF1.groupby('Title').count().sort_values(by='Rating',ascending = False)\n",
        "data_MF3 = data_MF2.reset_index()\n",
        "#---------------------------------------------------------------------------------------\n",
        "data_Male = data_M_and_F[data_M_and_F['Gender']=='M']\n",
        "data_Female = data_M_and_F[data_M_and_F['Gender']=='F']\n",
        "data_Male_Mean = data_Male.groupby('Title').mean()\n",
        "data_Female_Mean = data_Female.groupby('Title').mean()\n",
        "#-------------------------------------------------------------------------------------------\n",
        "data_MF4 = data_MF3.merge(data_Male_Mean,how='left',on='Title')\n",
        "data_MF5 = data_MF3.merge(data_Female_Mean,how='left',on='Title')\n",
        "#----------------------------------------------------------------------------------------\n",
        "data_MF4_1 = data_MF4[data_MF4['Rating_x'] >= 200]\n",
        "use_full_M = data_MF4_1[['Title','Rating_y']]\n",
        "use_full_M = use_full_M.set_index('Title')\n",
        "#---------------------------------------------------------------------------------------\n",
        "data_MF5_1 = data_MF5[data_MF5['Rating_x'] >= 200]\n",
        "use_full_F = data_MF5_1[['Title','Rating_y']]\n",
        "use_full_F = use_full_F.set_index('Title')\n",
        "#--------------------------------------------------------------------------------------\n",
        "plt.scatter(use_full_M, use_full_F)\n",
        "plt.title('A scatter plot of men VS. women and their mean rating for every movie')\n",
        "plt.xlabel('mean rating men')\n",
        "plt.ylabel('mean rating women')\n",
        "plt.show()"
      ]
    },
    {
      "cell_type": "markdown",
      "metadata": {
        "id": "xBWht2090TPr"
      },
      "source": [
        "### The correlation coefficent between the ratings of men and women"
      ]
    },
    {
      "cell_type": "code",
      "execution_count": null,
      "metadata": {
        "outputId": "98a67e69-2525-4248-e365-4fc6e064cd70",
        "colab": {
          "base_uri": "https://localhost:8080/"
        },
        "id": "A2yATHDR0TPr"
      },
      "outputs": [
        {
          "output_type": "stream",
          "name": "stdout",
          "text": [
            "[[1.         0.76318989]\n",
            " [0.76318989 1.        ]]\n",
            "[[1.         0.91896272]\n",
            " [0.91896272 1.        ]]\n"
          ]
        }
      ],
      "source": [
        "#-------------------------------\n",
        "# The correlation mean rating for every movie\n",
        "print(np.corrcoef(data_plot_nonna['Rating_x'],data_plot_nonna['Rating_y']))\n",
        "#-------------------------------\n",
        "# The correlation movies rated more than 200 times\n",
        "print(np.corrcoef(use_full_M['Rating_y'],use_full_F['Rating_y']))\n"
      ]
    },
    {
      "cell_type": "markdown",
      "metadata": {
        "id": "sfJ_Pz8B0TPr"
      },
      "source": [
        "## Conjecture under what circumstances the rating given by one gender can be used to predict the rating given by the other gender\n",
        "\n",
        "Example<br>\n",
        "Conjecture 1: Men and women are more similar when they are older, consider their rating over the same genres.\n",
        "\n",
        "Conjecture 2: Men and women more similar when they are academic/educator, artist, college/grad student, and programmer.\n",
        "\n",
        "Conjecture 3: Men and women more similar when they watch Action, Drama, War, and Triller."
      ]
    },
    {
      "cell_type": "markdown",
      "source": [
        "#Conjecture ความสัมพันธ์ระหว่างชายเเละหญิงที่ทำอาชีพ scientist,programmer,doctor/health care การให้ rating  "
      ],
      "metadata": {
        "id": "ccuAd8MNBf7R"
      }
    },
    {
      "cell_type": "code",
      "execution_count": null,
      "metadata": {
        "outputId": "d9fa2a90-cd3c-4377-937e-36c41337bee4",
        "colab": {
          "base_uri": "https://localhost:8080/",
          "height": 971
        },
        "id": "ROYsJd7n0TPr"
      },
      "outputs": [
        {
          "output_type": "stream",
          "name": "stderr",
          "text": [
            "<ipython-input-29-545c9baeac13>:9: UserWarning: Boolean Series key will be reindexed to match DataFrame index.\n",
            "  data_Male_scientist = data_3_scientist_TR[data_M_and_F['Gender']=='M']\n",
            "<ipython-input-29-545c9baeac13>:10: UserWarning: Boolean Series key will be reindexed to match DataFrame index.\n",
            "  data_Femal_scientist = data_3_scientist_TR[data_M_and_F['Gender']=='F']\n",
            "<ipython-input-29-545c9baeac13>:11: FutureWarning: The default value of numeric_only in DataFrameGroupBy.mean is deprecated. In a future version, numeric_only will default to False. Either specify numeric_only or select only columns which should be valid for the function.\n",
            "  data_Male_scientist_Mean = data_Male_scientist.groupby('Title').mean()\n",
            "<ipython-input-29-545c9baeac13>:12: FutureWarning: The default value of numeric_only in DataFrameGroupBy.mean is deprecated. In a future version, numeric_only will default to False. Either specify numeric_only or select only columns which should be valid for the function.\n",
            "  data_Female_scientist_Mean = data_Femal_scientist.groupby('Title').mean()\n",
            "<ipython-input-29-545c9baeac13>:18: UserWarning: Boolean Series key will be reindexed to match DataFrame index.\n",
            "  data_Male_programmer = data_3_programmer_TR[data_M_and_F['Gender']=='M']\n",
            "<ipython-input-29-545c9baeac13>:19: UserWarning: Boolean Series key will be reindexed to match DataFrame index.\n",
            "  data_Femal_programmer = data_3_programmer_TR[data_M_and_F['Gender']=='F']\n",
            "<ipython-input-29-545c9baeac13>:20: FutureWarning: The default value of numeric_only in DataFrameGroupBy.mean is deprecated. In a future version, numeric_only will default to False. Either specify numeric_only or select only columns which should be valid for the function.\n",
            "  data_Male_programmer_Mean = data_Male_programmer.groupby('Title').mean()\n",
            "<ipython-input-29-545c9baeac13>:21: FutureWarning: The default value of numeric_only in DataFrameGroupBy.mean is deprecated. In a future version, numeric_only will default to False. Either specify numeric_only or select only columns which should be valid for the function.\n",
            "  data_Female_programmer_Mean = data_Femal_programmer.groupby('Title').mean()\n",
            "<ipython-input-29-545c9baeac13>:27: UserWarning: Boolean Series key will be reindexed to match DataFrame index.\n",
            "  data_Male_doctor = data_3_doctor_TR[data_M_and_F['Gender']=='M']\n",
            "<ipython-input-29-545c9baeac13>:28: UserWarning: Boolean Series key will be reindexed to match DataFrame index.\n",
            "  data_Femal_doctor = data_3_doctor_TR[data_M_and_F['Gender']=='F']\n",
            "<ipython-input-29-545c9baeac13>:29: FutureWarning: The default value of numeric_only in DataFrameGroupBy.mean is deprecated. In a future version, numeric_only will default to False. Either specify numeric_only or select only columns which should be valid for the function.\n",
            "  data_Male_doctor_Mean = data_Male_doctor.groupby('Title').mean()\n",
            "<ipython-input-29-545c9baeac13>:30: FutureWarning: The default value of numeric_only in DataFrameGroupBy.mean is deprecated. In a future version, numeric_only will default to False. Either specify numeric_only or select only columns which should be valid for the function.\n",
            "  data_Female_doctor_Mean = data_Femal_doctor.groupby('Title').mean()\n"
          ]
        },
        {
          "output_type": "stream",
          "name": "stdout",
          "text": [
            "[[1.         0.47962135]\n",
            " [0.47962135 1.        ]]\n",
            "[[1.         0.45008376]\n",
            " [0.45008376 1.        ]]\n",
            "[[1.         0.51847883]\n",
            " [0.51847883 1.        ]]\n"
          ]
        },
        {
          "output_type": "display_data",
          "data": {
            "text/plain": [
              "<Figure size 640x480 with 1 Axes>"
            ],
            "image/png": "[encoded data removed]"
          },
          "metadata": {}
        }
      ],
      "source": [
        "#-------------------------------\n",
        "data_3_3 = df_use[['Title','Gender','Occupation','Rating']]\n",
        "data_3_scientist = data_3_3[data_3_3['Occupation']==15]\n",
        "data_3_programmer = data_3_3[data_3_3['Occupation']==12]\n",
        "data_3_doctor = data_3_3[data_3_3['Occupation']==6]\n",
        "#-------------------------------\n",
        "#scientist\n",
        "data_3_scientist_TR = data_3_scientist[['Title','Gender','Rating']]\n",
        "data_Male_scientist = data_3_scientist_TR[data_M_and_F['Gender']=='M']\n",
        "data_Femal_scientist = data_3_scientist_TR[data_M_and_F['Gender']=='F']\n",
        "data_Male_scientist_Mean = data_Male_scientist.groupby('Title').mean()\n",
        "data_Female_scientist_Mean = data_Femal_scientist.groupby('Title').mean()\n",
        "data_plot_scientist = data_Male_scientist_Mean.merge(data_Female_scientist_Mean,how='left',on='Title')\n",
        "data_plot_scientist_nonna = data_plot_scientist.dropna()\n",
        "plt.scatter(data_plot_scientist_nonna['Rating_x'], data_plot_scientist_nonna['Rating_y'])\n",
        "#programmer\n",
        "data_3_programmer_TR = data_3_programmer[['Title','Gender','Rating']]\n",
        "data_Male_programmer = data_3_programmer_TR[data_M_and_F['Gender']=='M']\n",
        "data_Femal_programmer = data_3_programmer_TR[data_M_and_F['Gender']=='F']\n",
        "data_Male_programmer_Mean = data_Male_programmer.groupby('Title').mean()\n",
        "data_Female_programmer_Mean = data_Femal_programmer.groupby('Title').mean()\n",
        "data_plot_programmer = data_Male_programmer_Mean.merge(data_Female_programmer_Mean,how='left',on='Title')\n",
        "data_plot_programmer_nonna = data_plot_programmer.dropna()\n",
        "plt.scatter(data_plot_programmer_nonna['Rating_x'], data_plot_programmer_nonna['Rating_y'])\n",
        "#doctor\n",
        "data_3_doctor_TR = data_3_doctor[['Title','Gender','Rating']]\n",
        "data_Male_doctor = data_3_doctor_TR[data_M_and_F['Gender']=='M']\n",
        "data_Femal_doctor = data_3_doctor_TR[data_M_and_F['Gender']=='F']\n",
        "data_Male_doctor_Mean = data_Male_doctor.groupby('Title').mean()\n",
        "data_Female_doctor_Mean = data_Femal_doctor.groupby('Title').mean()\n",
        "data_plot_doctor = data_Male_doctor_Mean.merge(data_Female_doctor_Mean,how='left',on='Title')\n",
        "data_plot_doctor_nonna = data_plot_doctor.dropna()\n",
        "plt.scatter(data_plot_doctor_nonna['Rating_x'], data_plot_doctor_nonna['Rating_y'])\n",
        "#-------------------------------------------------------------------------------------------------------------------------\n",
        "#scientist\n",
        "print(np.corrcoef(data_plot_scientist_nonna['Rating_x'],data_plot_scientist_nonna['Rating_y']))\n",
        "#programmer\n",
        "print(np.corrcoef(data_plot_programmer_nonna['Rating_x'],data_plot_programmer_nonna['Rating_y']))\n",
        "#doctor\n",
        "print(np.corrcoef(data_plot_doctor_nonna['Rating_x'],data_plot_doctor_nonna['Rating_y']))"
      ]
    }
  ],
  "metadata": {
    "anaconda-cloud": {},
    "kernelspec": {
      "display_name": "Python 3 (ipykernel)",
      "language": "python",
      "name": "python3"
    },
    "language_info": {
      "codemirror_mode": {
        "name": "ipython",
        "version": 3
      },
      "file_extension": ".py",
      "mimetype": "text/x-python",
      "name": "python",
      "nbconvert_exporter": "python",
      "pygments_lexer": "ipython3",
      "version": "3.8.8"
    },
    "colab": {
      "provenance": [],
      "toc_visible": true,
      "include_colab_link": true
    }
  },
  "nbformat": 4,
  "nbformat_minor": 0
}